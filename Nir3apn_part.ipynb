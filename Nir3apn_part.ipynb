{
 "cells": [
  {
   "cell_type": "code",
   "execution_count": 7,
   "metadata": {
    "collapsed": true
   },
   "outputs": [],
   "source": [
    "from pyfinite import ffield\n",
    "import math\n",
    "import numpy as np"
   ]
  },
  {
   "cell_type": "code",
   "execution_count": 4,
   "metadata": {
    "collapsed": true
   },
   "outputs": [],
   "source": [
    "F = ffield.FField(5)\n"
   ]
  },
  {
   "cell_type": "code",
   "execution_count": 5,
   "metadata": {},
   "outputs": [
    {
     "data": {
      "text/plain": [
       "'x^2 + x^1 + 1'"
      ]
     },
     "execution_count": 5,
     "metadata": {},
     "output_type": "execute_result"
    }
   ],
   "source": [
    "a = 7\n",
    "F.ShowPolynomial(a) # show the polynomial representation of a"
   ]
  },
  {
   "cell_type": "code",
   "execution_count": 8,
   "metadata": {
    "collapsed": true
   },
   "outputs": [],
   "source": [
    "def get_function_to_Zhegalkin_coeffs_matrix_G(n):\n",
    "    if n in get_function_to_Zhegalkin_coeffs_matrix_G.cache:\n",
    "        return get_function_to_Zhegalkin_coeffs_matrix_G.cache[n]\n",
    "    \n",
    "    G_n_prev = get_function_to_Zhegalkin_coeffs_matrix_G(n - 1)\n",
    "    result = np.asmatrix(np.vstack([np.hstack([G_n_prev, np.zeros(G_n_prev.shape, dtype=int)]),\\\n",
    "                                    np.hstack([G_n_prev, G_n_prev])]))\n",
    "    \n",
    "    get_function_to_Zhegalkin_coeffs_matrix_G.cache[n] = result\n",
    "    return result\n",
    "\n",
    "get_function_to_Zhegalkin_coeffs_matrix_G.cache = {0: np.matrix([1], dtype=int)}"
   ]
  },
  {
   "cell_type": "code",
   "execution_count": 9,
   "metadata": {
    "collapsed": true
   },
   "outputs": [],
   "source": [
    "def get_positional_functions(permutation):\n",
    "    n = round(math.log(len(permutation), 2))\n",
    "    result = []\n",
    "    for i in range(n):\n",
    "        shift = n - i - 1\n",
    "        another_function = [ (permutation[j] >> shift) & 1 for j in range(len(permutation)) ]\n",
    "        result.append(np.matrix(another_function).T)\n",
    "    return result"
   ]
  },
  {
   "cell_type": "code",
   "execution_count": 8,
   "metadata": {},
   "outputs": [
    {
     "data": {
      "text/plain": [
       "matrix([[1, 0, 0, 0],\n",
       "        [1, 1, 0, 0],\n",
       "        [1, 0, 1, 0],\n",
       "        [1, 1, 1, 1]])"
      ]
     },
     "execution_count": 8,
     "metadata": {},
     "output_type": "execute_result"
    }
   ],
   "source": [
    "get_function_to_Zhegalkin_coeffs_matrix_G(2)"
   ]
  },
  {
   "cell_type": "code",
   "execution_count": 10,
   "metadata": {
    "collapsed": true
   },
   "outputs": [],
   "source": [
    "def get_conjunctions(Zhegalkin_coeffs):\n",
    "    n = round(math.log(len(Zhegalkin_coeffs), 2))\n",
    "    included_conjunctions = []\n",
    "    \n",
    "    for i in range(1, len(Zhegalkin_coeffs)):\n",
    "        if Zhegalkin_coeffs[i]:\n",
    "            variable_vector = []\n",
    "            included_variables = bin(i)[2:].zfill(n)\n",
    "            for j in range(len(included_variables)):\n",
    "                if included_variables[j] != '0':\n",
    "                    variable_vector.append(j + 1)\n",
    "            included_conjunctions.append(variable_vector)\n",
    "    \n",
    "    included_conjunctions.sort(key=lambda conj: (len(conj), conj))\n",
    "    return included_conjunctions"
   ]
  },
  {
   "cell_type": "code",
   "execution_count": 11,
   "metadata": {
    "collapsed": true
   },
   "outputs": [],
   "source": [
    "def str_Zhegalkin_polynomial(Zhegalkin_coeffs):  \n",
    "    included_conjunctions = get_conjunctions(Zhegalkin_coeffs)\n",
    "    \n",
    "    conjunctions_strings = [conjunction_to_str(conj) for conj in included_conjunctions]\n",
    "    if Zhegalkin_coeffs[0]:\n",
    "        conjunctions_strings = ['1'] + conjunctions_strings\n",
    "    return ' ⊕ '.join(conjunctions_strings)"
   ]
  },
  {
   "cell_type": "code",
   "execution_count": 12,
   "metadata": {
    "collapsed": true
   },
   "outputs": [],
   "source": [
    "def conjunction_to_str(conjunction):\n",
    "    \"\"\"Конвертирует конъюнкцию, представляемую вектором входящих переменных, в строковую запись.\n",
    "    [1, 3, 4] -> x1x3x4\n",
    "    с нижними индексами в Libre Office.\"\"\"\n",
    "    \n",
    "    return ''.join(map(lambda var: \"x_{{{}}}\".format(var), conjunction))"
   ]
  },
  {
   "cell_type": "code",
   "execution_count": 13,
   "metadata": {
    "collapsed": true
   },
   "outputs": [],
   "source": [
    "def zhegalkin_polynomials_from_transform(permutation):\n",
    "    n = round(math.log(len(permutation), 2))\n",
    "    \n",
    "    positional_functions = get_positional_functions(permutation)\n",
    "    #print(positional_functions)\n",
    "    positional_functions_Zhegalkin_polynomials =\\\n",
    "        [(get_function_to_Zhegalkin_coeffs_matrix_G(n) * positional_function) % 2 for\\\n",
    "         positional_function in positional_functions]\n",
    "    #print(positional_functions_Zhegalkin_polynomials)\n",
    "        \n",
    "    positional_functions_Zhegalkin_polynomials = map(lambda matrix: matrix.A1,\\\n",
    "                                                     positional_functions_Zhegalkin_polynomials)\n",
    "    positional_functions_Zhegalkin_polynomials = list(positional_functions_Zhegalkin_polynomials)\n",
    "    \n",
    "    Zhegalkin_polynomials_strings = map(str_Zhegalkin_polynomial, positional_functions_Zhegalkin_polynomials)\n",
    "    Zhegalkin_polynomials_strings = list(Zhegalkin_polynomials_strings)\n",
    "    #print(Zhegalkin_polynomials_strings)\n",
    "    \n",
    "    for i in range(len(Zhegalkin_polynomials_strings)):\n",
    "        Zhegalkin_polynomials_strings[i] = 'y_{{{}}} = '.format(i + 1) + Zhegalkin_polynomials_strings[i]\n",
    "    return '; '.join(Zhegalkin_polynomials_strings)"
   ]
  },
  {
   "cell_type": "code",
   "execution_count": 14,
   "metadata": {
    "collapsed": true
   },
   "outputs": [],
   "source": [
    "def calculate_degree_of_transform(transform):\n",
    "    n = round(math.log(len(transform), 2))\n",
    "    \n",
    "    positional_functions = get_positional_functions(transform)\n",
    "    \n",
    "    positional_functions_Zhegalkin_polynomials =\\\n",
    "    [(get_function_to_Zhegalkin_coeffs_matrix_G(n) * positional_function) % 2 for\\\n",
    "     positional_function in positional_functions]\n",
    "    \n",
    "    positional_functions_Zhegalkin_polynomials = map(lambda matrix: matrix.A1,\\\n",
    "                                                     positional_functions_Zhegalkin_polynomials)\n",
    "    positional_functions_Zhegalkin_polynomials = list(positional_functions_Zhegalkin_polynomials)\n",
    "    \n",
    "    Zhegalkin_polynomials_conjunctions = map(get_conjunctions, positional_functions_Zhegalkin_polynomials)\n",
    "    Zhegalkin_polynomials_conjunctions = list(Zhegalkin_polynomials_conjunctions)\n",
    "    max_deg = 0\n",
    "    for lst in Zhegalkin_polynomials_conjunctions:\n",
    "        for list_item in lst:\n",
    "            if max_deg < len(list_item):\n",
    "                max_deg = len(list_item)\n",
    "    return max_deg   \n",
    "    "
   ]
  },
  {
   "cell_type": "code",
   "execution_count": 14,
   "metadata": {},
   "outputs": [
    {
     "data": {
      "text/plain": [
       "'y_{1} = 1; y_{2} = 1 ⊕ x_{1}x_{2}'"
      ]
     },
     "execution_count": 14,
     "metadata": {},
     "output_type": "execute_result"
    }
   ],
   "source": [
    "zhegalkin_polynomials_from_transform([3,3,3,2])"
   ]
  },
  {
   "cell_type": "code",
   "execution_count": 15,
   "metadata": {},
   "outputs": [
    {
     "data": {
      "text/plain": [
       "2"
      ]
     },
     "execution_count": 15,
     "metadata": {},
     "output_type": "execute_result"
    }
   ],
   "source": [
    "calculate_degree_of_transform([3,3,3,2])"
   ]
  },
  {
   "cell_type": "code",
   "execution_count": 15,
   "metadata": {
    "collapsed": true
   },
   "outputs": [],
   "source": [
    "def mult(elem1, elem2, field):\n",
    "    return field.Multiply(elem1, elem2)"
   ]
  },
  {
   "cell_type": "code",
   "execution_count": 16,
   "metadata": {
    "collapsed": true
   },
   "outputs": [],
   "source": [
    "def powF(elem, power, field):\n",
    "    if power < 1 or isinstance(power, int) == False :\n",
    "        raise Exception('power must be 1 or more and integer')\n",
    "    res = elem\n",
    "    for i in range(power - 1):\n",
    "        res = mult(res, elem, field)\n",
    "    return res\n",
    "        "
   ]
  },
  {
   "cell_type": "code",
   "execution_count": 17,
   "metadata": {
    "collapsed": true
   },
   "outputs": [],
   "source": [
    "def getKloostermanApn(n=3):\n",
    "    if n % 2 == 0:\n",
    "        raise Exception('n must be odd')\n",
    "    F = ffield.FField(n)\n",
    "    power = 2 ** n - 2\n",
    "    res_transform = []\n",
    "    for i in range(2**n):\n",
    "        res_transform.append(powF(i, power, F))\n",
    "    return res_transform\n",
    "    "
   ]
  },
  {
   "cell_type": "code",
   "execution_count": 19,
   "metadata": {},
   "outputs": [
    {
     "data": {
      "text/plain": [
       "0"
      ]
     },
     "execution_count": 19,
     "metadata": {},
     "output_type": "execute_result"
    }
   ],
   "source": [
    "powF(0,9,ffield.FField(2))"
   ]
  },
  {
   "cell_type": "code",
   "execution_count": 20,
   "metadata": {},
   "outputs": [
    {
     "data": {
      "text/plain": [
       "[0, 1, 5, 6, 7, 2, 3, 4]"
      ]
     },
     "execution_count": 20,
     "metadata": {},
     "output_type": "execute_result"
    }
   ],
   "source": [
    "getKloostermanApn(3)"
   ]
  },
  {
   "cell_type": "code",
   "execution_count": 21,
   "metadata": {
    "collapsed": true
   },
   "outputs": [],
   "source": [
    "def isPermutation(transform):\n",
    "    return len(set(transform)) == len(transform)"
   ]
  },
  {
   "cell_type": "code",
   "execution_count": 22,
   "metadata": {},
   "outputs": [
    {
     "data": {
      "text/plain": [
       "True"
      ]
     },
     "execution_count": 22,
     "metadata": {},
     "output_type": "execute_result"
    }
   ],
   "source": [
    "isPermutation(getKloostermanApn(9))"
   ]
  },
  {
   "cell_type": "code",
   "execution_count": 23,
   "metadata": {},
   "outputs": [
    {
     "data": {
      "text/plain": [
       "'y_{1} = x_{1} ⊕ x_{2} ⊕ x_{1}x_{3}; y_{2} = x_{1} ⊕ x_{2}x_{3}; y_{3} = x_{1} ⊕ x_{2} ⊕ x_{3} ⊕ x_{1}x_{2}'"
      ]
     },
     "execution_count": 23,
     "metadata": {},
     "output_type": "execute_result"
    }
   ],
   "source": [
    "zhegalkin_polynomials_from_transform(getKloostermanApn(3))"
   ]
  },
  {
   "cell_type": "code",
   "execution_count": 24,
   "metadata": {},
   "outputs": [
    {
     "data": {
      "text/plain": [
       "2"
      ]
     },
     "execution_count": 24,
     "metadata": {},
     "output_type": "execute_result"
    }
   ],
   "source": [
    "calculate_degree_of_transform(getKloostermanApn(3))"
   ]
  },
  {
   "cell_type": "code",
   "execution_count": 53,
   "metadata": {},
   "outputs": [
    {
     "name": "stdout",
     "output_type": "stream",
     "text": [
      "n= 3 d= 2\n",
      "n= 5 d= 4\n",
      "n= 7 d= 6\n",
      "n= 9 d= 8\n",
      "n= 11 d= 10\n"
     ]
    }
   ],
   "source": [
    "for i in range(3, 13, 2):\n",
    "    print(\"n= \" + str(i) + \" d= \" + str(calculate_degree_of_transform(getKloostermanApn(i))))"
   ]
  },
  {
   "cell_type": "code",
   "execution_count": 28,
   "metadata": {},
   "outputs": [
    {
     "name": "stdout",
     "output_type": "stream",
     "text": [
      "1\n"
     ]
    }
   ],
   "source": [
    "print(math.gcd(1, 19))"
   ]
  },
  {
   "cell_type": "code",
   "execution_count": 32,
   "metadata": {
    "collapsed": true
   },
   "outputs": [],
   "source": [
    "def get_i_list_gcd_n_1(n):\n",
    "    res_l = []\n",
    "    i = 1\n",
    "    while i <= n:\n",
    "        if math.gcd(n, i) == 1:\n",
    "            res_l.append(i)\n",
    "        i += 1\n",
    "    return res_l            "
   ]
  },
  {
   "cell_type": "code",
   "execution_count": 37,
   "metadata": {
    "collapsed": true
   },
   "outputs": [],
   "source": [
    "for i in range(3, 13):\n",
    "    get_i_list_gcd_n_1(i)"
   ]
  },
  {
   "cell_type": "code",
   "execution_count": 38,
   "metadata": {
    "collapsed": true
   },
   "outputs": [],
   "source": [
    "def getGoldApn(n, i):\n",
    "    if math.gcd(n,i) != 1:\n",
    "        raise Exception('gcd(n,i) must be 1')\n",
    "    F = ffield.FField(n)\n",
    "    power = 2 ** i + 1\n",
    "    res_transform = []\n",
    "    for i in range(2**n):\n",
    "        res_transform.append(powF(i, power, F))\n",
    "    return res_transform\n",
    "    "
   ]
  },
  {
   "cell_type": "code",
   "execution_count": 52,
   "metadata": {
    "scrolled": true
   },
   "outputs": [
    {
     "name": "stdout",
     "output_type": "stream",
     "text": [
      "n=2, i=1, d=2\n",
      "n=3, i=1, d=2\n",
      "n=3, i=2, d=2\n",
      "n=4, i=1, d=2\n",
      "n=4, i=3, d=2\n",
      "n=5, i=1, d=2\n",
      "n=5, i=2, d=2\n",
      "n=5, i=3, d=2\n",
      "n=5, i=4, d=2\n",
      "n=6, i=1, d=2\n",
      "n=6, i=5, d=2\n",
      "n=7, i=1, d=2\n",
      "n=7, i=2, d=2\n",
      "n=7, i=3, d=2\n",
      "n=7, i=4, d=2\n",
      "n=7, i=5, d=2\n",
      "n=7, i=6, d=2\n",
      "n=8, i=1, d=2\n",
      "n=8, i=3, d=2\n",
      "n=8, i=5, d=2\n",
      "n=8, i=7, d=2\n",
      "n=9, i=1, d=2\n",
      "n=9, i=2, d=2\n",
      "n=9, i=4, d=2\n",
      "n=9, i=5, d=2\n",
      "n=9, i=7, d=2\n",
      "n=9, i=8, d=2\n",
      "n=10, i=1, d=2\n",
      "n=10, i=3, d=2\n",
      "n=10, i=7, d=2\n",
      "n=10, i=9, d=2\n",
      "n=11, i=1, d=2\n",
      "n=11, i=2, d=2\n",
      "n=11, i=3, d=2\n",
      "n=11, i=4, d=2\n",
      "n=11, i=5, d=2\n",
      "n=11, i=6, d=2\n",
      "n=11, i=7, d=2\n",
      "n=11, i=8, d=2\n",
      "n=11, i=9, d=2\n",
      "n=11, i=10, d=2\n",
      "n=12, i=1, d=2\n",
      "n=12, i=5, d=2\n",
      "n=12, i=7, d=2\n",
      "n=12, i=11, d=2\n"
     ]
    }
   ],
   "source": [
    "print(\"Gold apn x ^ (2 ^ i + 1)\")\n",
    "for n in range(2, 13):\n",
    "    powers = get_i_list_gcd_n_1(n)\n",
    "    for i in powers:\n",
    "        gold_apn = getGoldApn(n, i)\n",
    "        degree = calculate_degree_of_transform(gold_apn)\n",
    "        print('n=' + str(n) + ', i=' + str(i) + \", d=\" + str(degree))"
   ]
  },
  {
   "cell_type": "code",
   "execution_count": 51,
   "metadata": {},
   "outputs": [
    {
     "name": "stdout",
     "output_type": "stream",
     "text": [
      "Division by: 8\n",
      "[8, 0, 0, 0, 0, 0, 0, 0]\n",
      "[0, 2, 0, 2, 0, 2, 0, 2]\n",
      "[0, 0, 2, 2, 0, 0, 2, 2]\n",
      "[0, 2, 2, 0, 0, 2, 2, 0]\n",
      "[0, 0, 2, 2, 2, 2, 0, 0]\n",
      "[0, 2, 2, 0, 2, 0, 0, 2]\n",
      "[0, 0, 0, 0, 2, 2, 2, 2]\n",
      "[0, 2, 0, 2, 2, 0, 2, 0]\n"
     ]
    }
   ],
   "source": [
    "perm=[0, 1, 7, 2, 3, 4, 5, 6]\n",
    "r = perm\n",
    "power=len(perm)\n",
    "\n",
    "matr=[[0 for i in range(len(r))] for i in range(len(r))]\n",
    "\n",
    "\n",
    "for e in range(0,len(r)):\n",
    "    for a in range (0,len(r)):\n",
    "        s=perm[a^e]^perm[a]\n",
    "        matr[e][s]+=1\n",
    "\n",
    "print(\"Division by: \"+str(power))\n",
    "for i in range(0,len(r)):\n",
    "    print(matr[i])"
   ]
  },
  {
   "cell_type": "code",
   "execution_count": 54,
   "metadata": {
    "collapsed": true
   },
   "outputs": [],
   "source": [
    "def getKasamiApn(n, i):\n",
    "    if math.gcd(n,i) != 1:\n",
    "        raise Exception('gcd(n,i) must be 1')\n",
    "    F = ffield.FField(n)\n",
    "    power = 2 ** (2 * i)- 2 ** i + 1\n",
    "    res_transform = []\n",
    "    for i in range(2**n):\n",
    "        res_transform.append(powF(i, power, F))\n",
    "    return res_transform"
   ]
  },
  {
   "cell_type": "code",
   "execution_count": 58,
   "metadata": {},
   "outputs": [
    {
     "name": "stdout",
     "output_type": "stream",
     "text": [
      "Kasami apn 2 ^ 2i - 2 ^ i + 1\n",
      "n=2, i=1, d=2\n",
      "n=3, i=1, d=2\n",
      "n=3, i=2, d=2\n",
      "n=4, i=1, d=2\n",
      "n=4, i=3, d=2\n",
      "n=5, i=1, d=2\n",
      "n=5, i=2, d=3\n",
      "n=5, i=3, d=3\n",
      "n=5, i=4, d=2\n",
      "n=6, i=1, d=2\n",
      "n=6, i=5, d=2\n",
      "n=7, i=1, d=2\n",
      "n=7, i=2, d=3\n",
      "n=7, i=3, d=4\n",
      "n=7, i=4, d=4\n",
      "n=7, i=5, d=3\n",
      "n=7, i=6, d=2\n",
      "n=8, i=1, d=2\n",
      "n=8, i=3, d=4\n",
      "n=8, i=5, d=4\n",
      "n=8, i=7, d=2\n",
      "n=9, i=1, d=2\n",
      "n=9, i=2, d=3\n",
      "n=9, i=4, d=5\n",
      "n=9, i=5, d=5\n",
      "n=9, i=7, d=3\n",
      "n=9, i=8, d=2\n",
      "n=10, i=1, d=2\n",
      "n=10, i=3, d=4\n",
      "n=10, i=7, d=4\n"
     ]
    },
    {
     "ename": "KeyboardInterrupt",
     "evalue": "",
     "output_type": "error",
     "traceback": [
      "\u001b[0;31m---------------------------------------------------------------------------\u001b[0m",
      "\u001b[0;31mKeyboardInterrupt\u001b[0m                         Traceback (most recent call last)",
      "\u001b[0;32m<ipython-input-58-54cb8f66632b>\u001b[0m in \u001b[0;36m<module>\u001b[0;34m()\u001b[0m\n\u001b[1;32m      3\u001b[0m     \u001b[0mpowers\u001b[0m \u001b[0;34m=\u001b[0m \u001b[0mget_i_list_gcd_n_1\u001b[0m\u001b[0;34m(\u001b[0m\u001b[0mn\u001b[0m\u001b[0;34m)\u001b[0m\u001b[0;34m\u001b[0m\u001b[0m\n\u001b[1;32m      4\u001b[0m     \u001b[0;32mfor\u001b[0m \u001b[0mi\u001b[0m \u001b[0;32min\u001b[0m \u001b[0mpowers\u001b[0m\u001b[0;34m:\u001b[0m\u001b[0;34m\u001b[0m\u001b[0m\n\u001b[0;32m----> 5\u001b[0;31m         \u001b[0mkasami_apn\u001b[0m \u001b[0;34m=\u001b[0m \u001b[0mgetKasamiApn\u001b[0m\u001b[0;34m(\u001b[0m\u001b[0mn\u001b[0m\u001b[0;34m,\u001b[0m \u001b[0mi\u001b[0m\u001b[0;34m)\u001b[0m\u001b[0;34m\u001b[0m\u001b[0m\n\u001b[0m\u001b[1;32m      6\u001b[0m         \u001b[0mdegree\u001b[0m \u001b[0;34m=\u001b[0m \u001b[0mcalculate_degree_of_transform\u001b[0m\u001b[0;34m(\u001b[0m\u001b[0mkasami_apn\u001b[0m\u001b[0;34m)\u001b[0m\u001b[0;34m\u001b[0m\u001b[0m\n\u001b[1;32m      7\u001b[0m         \u001b[0mprint\u001b[0m\u001b[0;34m(\u001b[0m\u001b[0;34m'n='\u001b[0m \u001b[0;34m+\u001b[0m \u001b[0mstr\u001b[0m\u001b[0;34m(\u001b[0m\u001b[0mn\u001b[0m\u001b[0;34m)\u001b[0m \u001b[0;34m+\u001b[0m \u001b[0;34m', i='\u001b[0m \u001b[0;34m+\u001b[0m \u001b[0mstr\u001b[0m\u001b[0;34m(\u001b[0m\u001b[0mi\u001b[0m\u001b[0;34m)\u001b[0m \u001b[0;34m+\u001b[0m \u001b[0;34m\", d=\"\u001b[0m \u001b[0;34m+\u001b[0m \u001b[0mstr\u001b[0m\u001b[0;34m(\u001b[0m\u001b[0mdegree\u001b[0m\u001b[0;34m)\u001b[0m\u001b[0;34m)\u001b[0m\u001b[0;34m\u001b[0m\u001b[0m\n",
      "\u001b[0;32m<ipython-input-54-df5d0791f787>\u001b[0m in \u001b[0;36mgetKasamiApn\u001b[0;34m(n, i)\u001b[0m\n\u001b[1;32m      6\u001b[0m     \u001b[0mres_transform\u001b[0m \u001b[0;34m=\u001b[0m \u001b[0;34m[\u001b[0m\u001b[0;34m]\u001b[0m\u001b[0;34m\u001b[0m\u001b[0m\n\u001b[1;32m      7\u001b[0m     \u001b[0;32mfor\u001b[0m \u001b[0mi\u001b[0m \u001b[0;32min\u001b[0m \u001b[0mrange\u001b[0m\u001b[0;34m(\u001b[0m\u001b[0;36m2\u001b[0m\u001b[0;34m**\u001b[0m\u001b[0mn\u001b[0m\u001b[0;34m)\u001b[0m\u001b[0;34m:\u001b[0m\u001b[0;34m\u001b[0m\u001b[0m\n\u001b[0;32m----> 8\u001b[0;31m         \u001b[0mres_transform\u001b[0m\u001b[0;34m.\u001b[0m\u001b[0mappend\u001b[0m\u001b[0;34m(\u001b[0m\u001b[0mpowF\u001b[0m\u001b[0;34m(\u001b[0m\u001b[0mi\u001b[0m\u001b[0;34m,\u001b[0m \u001b[0mpower\u001b[0m\u001b[0;34m,\u001b[0m \u001b[0mF\u001b[0m\u001b[0;34m)\u001b[0m\u001b[0;34m)\u001b[0m\u001b[0;34m\u001b[0m\u001b[0m\n\u001b[0m\u001b[1;32m      9\u001b[0m     \u001b[0;32mreturn\u001b[0m \u001b[0mres_transform\u001b[0m\u001b[0;34m\u001b[0m\u001b[0m\n",
      "\u001b[0;32m<ipython-input-17-3416de9b3863>\u001b[0m in \u001b[0;36mpowF\u001b[0;34m(elem, power, field)\u001b[0m\n\u001b[1;32m      4\u001b[0m     \u001b[0mres\u001b[0m \u001b[0;34m=\u001b[0m \u001b[0melem\u001b[0m\u001b[0;34m\u001b[0m\u001b[0m\n\u001b[1;32m      5\u001b[0m     \u001b[0;32mfor\u001b[0m \u001b[0mi\u001b[0m \u001b[0;32min\u001b[0m \u001b[0mrange\u001b[0m\u001b[0;34m(\u001b[0m\u001b[0mpower\u001b[0m \u001b[0;34m-\u001b[0m \u001b[0;36m1\u001b[0m\u001b[0;34m)\u001b[0m\u001b[0;34m:\u001b[0m\u001b[0;34m\u001b[0m\u001b[0m\n\u001b[0;32m----> 6\u001b[0;31m         \u001b[0mres\u001b[0m \u001b[0;34m=\u001b[0m \u001b[0mmult\u001b[0m\u001b[0;34m(\u001b[0m\u001b[0mres\u001b[0m\u001b[0;34m,\u001b[0m \u001b[0melem\u001b[0m\u001b[0;34m,\u001b[0m \u001b[0mfield\u001b[0m\u001b[0;34m)\u001b[0m\u001b[0;34m\u001b[0m\u001b[0m\n\u001b[0m\u001b[1;32m      7\u001b[0m     \u001b[0;32mreturn\u001b[0m \u001b[0mres\u001b[0m\u001b[0;34m\u001b[0m\u001b[0m\n\u001b[1;32m      8\u001b[0m \u001b[0;34m\u001b[0m\u001b[0m\n",
      "\u001b[0;32m<ipython-input-16-14a4827be95b>\u001b[0m in \u001b[0;36mmult\u001b[0;34m(elem1, elem2, field)\u001b[0m\n\u001b[1;32m      1\u001b[0m \u001b[0;32mdef\u001b[0m \u001b[0mmult\u001b[0m\u001b[0;34m(\u001b[0m\u001b[0melem1\u001b[0m\u001b[0;34m,\u001b[0m \u001b[0melem2\u001b[0m\u001b[0;34m,\u001b[0m \u001b[0mfield\u001b[0m\u001b[0;34m)\u001b[0m\u001b[0;34m:\u001b[0m\u001b[0;34m\u001b[0m\u001b[0m\n\u001b[0;32m----> 2\u001b[0;31m     \u001b[0;32mreturn\u001b[0m \u001b[0mfield\u001b[0m\u001b[0;34m.\u001b[0m\u001b[0mMultiply\u001b[0m\u001b[0;34m(\u001b[0m\u001b[0melem1\u001b[0m\u001b[0;34m,\u001b[0m \u001b[0melem2\u001b[0m\u001b[0;34m)\u001b[0m\u001b[0;34m\u001b[0m\u001b[0m\n\u001b[0m",
      "\u001b[0;32m~/anaconda3/lib/python3.6/site-packages/pyfinite/ffield.py\u001b[0m in \u001b[0;36mDoMultiply\u001b[0;34m(self, f, v)\u001b[0m\n\u001b[1;32m    250\u001b[0m         \u001b[0mm\u001b[0m \u001b[0;34m=\u001b[0m \u001b[0mself\u001b[0m\u001b[0;34m.\u001b[0m\u001b[0mMultiplyWithoutReducing\u001b[0m\u001b[0;34m(\u001b[0m\u001b[0mf\u001b[0m\u001b[0;34m,\u001b[0m\u001b[0mv\u001b[0m\u001b[0;34m)\u001b[0m\u001b[0;34m\u001b[0m\u001b[0m\n\u001b[1;32m    251\u001b[0m         return self.FullDivision(m,self.generator,\n\u001b[0;32m--> 252\u001b[0;31m                                  self.FindDegree(m),self.n)[1]\n\u001b[0m\u001b[1;32m    253\u001b[0m \u001b[0;34m\u001b[0m\u001b[0m\n\u001b[1;32m    254\u001b[0m     \u001b[0;32mdef\u001b[0m \u001b[0mDoInverseForSmallField\u001b[0m\u001b[0;34m(\u001b[0m\u001b[0mself\u001b[0m\u001b[0;34m,\u001b[0m\u001b[0mf\u001b[0m\u001b[0;34m)\u001b[0m\u001b[0;34m:\u001b[0m\u001b[0;34m\u001b[0m\u001b[0m\n",
      "\u001b[0;32m~/anaconda3/lib/python3.6/site-packages/pyfinite/ffield.py\u001b[0m in \u001b[0;36mFullDivision\u001b[0;34m(self, f, v, fDegree, vDegree)\u001b[0m\n\u001b[1;32m    343\u001b[0m         \u001b[0mresult\u001b[0m \u001b[0;34m=\u001b[0m \u001b[0;36m0\u001b[0m\u001b[0;34m\u001b[0m\u001b[0m\n\u001b[1;32m    344\u001b[0m         \u001b[0mi\u001b[0m \u001b[0;34m=\u001b[0m \u001b[0mfDegree\u001b[0m\u001b[0;34m\u001b[0m\u001b[0m\n\u001b[0;32m--> 345\u001b[0;31m         \u001b[0mmask\u001b[0m \u001b[0;34m=\u001b[0m \u001b[0mself\u001b[0m\u001b[0;34m.\u001b[0m\u001b[0munity\u001b[0m \u001b[0;34m<<\u001b[0m \u001b[0mi\u001b[0m\u001b[0;34m\u001b[0m\u001b[0m\n\u001b[0m\u001b[1;32m    346\u001b[0m         \u001b[0;32mwhile\u001b[0m \u001b[0;34m(\u001b[0m\u001b[0mi\u001b[0m \u001b[0;34m>=\u001b[0m \u001b[0mvDegree\u001b[0m\u001b[0;34m)\u001b[0m\u001b[0;34m:\u001b[0m\u001b[0;34m\u001b[0m\u001b[0m\n\u001b[1;32m    347\u001b[0m             \u001b[0;32mif\u001b[0m \u001b[0;34m(\u001b[0m\u001b[0mmask\u001b[0m \u001b[0;34m&\u001b[0m \u001b[0mf\u001b[0m\u001b[0;34m)\u001b[0m\u001b[0;34m:\u001b[0m\u001b[0;34m\u001b[0m\u001b[0m\n",
      "\u001b[0;31mKeyboardInterrupt\u001b[0m: "
     ]
    }
   ],
   "source": [
    "print(\"Kasami apn 2 ^ 2i - 2 ^ i + 1\")\n",
    "for n in range(2, 11):\n",
    "    powers = get_i_list_gcd_n_1(n)\n",
    "    for i in powers:\n",
    "        kasami_apn = getKasamiApn(n, i)\n",
    "        degree = calculate_degree_of_transform(kasami_apn)\n",
    "        print('n=' + str(n) + ', i=' + str(i) + \", d=\" + str(degree))"
   ]
  },
  {
   "cell_type": "code",
   "execution_count": 60,
   "metadata": {
    "collapsed": true
   },
   "outputs": [],
   "source": [
    "def getWelchApn(t):\n",
    "    n = 2 * t + 1\n",
    "    power = 2 ** t + 3\n",
    "    F = ffield.FField(n)\n",
    "    res_transform = []\n",
    "    for i in range(2**n):\n",
    "        res_transform.append(powF(i, power, F))\n",
    "    return res_transform    "
   ]
  },
  {
   "cell_type": "code",
   "execution_count": null,
   "metadata": {},
   "outputs": [
    {
     "name": "stdout",
     "output_type": "stream",
     "text": [
      "Welch apn 2 ^ t + 3 n = 2t+1\n",
      "n=5, t=2, d=3\n",
      "n=7, t=3, d=3\n",
      "n=9, t=4, d=3\n",
      "n=11, t=5, d=3\n",
      "n=13, t=6, d=3\n"
     ]
    }
   ],
   "source": [
    "print(\"Welch apn 2 ^ t + 3 n = 2t+1\")\n",
    "for t in range(2, 13):\n",
    "    welch_apn = getWelchApn(t)\n",
    "    degree = calculate_degree_of_transform(welch_apn)\n",
    "    print('n=' + str(2 * t + 1) + ', t=' + str(t) + \", d=\" + str(degree))"
   ]
  },
  {
   "cell_type": "code",
   "execution_count": 19,
   "metadata": {
    "collapsed": true
   },
   "outputs": [],
   "source": [
    "def getNihoApn(t):\n",
    "    n = 2 * t + 1\n",
    "    power = 'Not a power'\n",
    "    if t % 2 == 0:\n",
    "        power = int(2 ** t + 2 ** (t / 2) - 1)\n",
    "    else:\n",
    "        power = int(2 ** t + 2 **((3 * t + 1) / 2) - 1)\n",
    "    F = ffield.FField(n)\n",
    "    res_transform = []\n",
    "    for i in range(2**n):\n",
    "        res_transform.append(powF(i, power, F))\n",
    "    return res_transform  "
   ]
  },
  {
   "cell_type": "code",
   "execution_count": 20,
   "metadata": {},
   "outputs": [
    {
     "name": "stdout",
     "output_type": "stream",
     "text": [
      "Noho apn \n",
      "n=5, t=2, d=2\n",
      "n=7, t=3, d=4\n",
      "n=9, t=4, d=3\n",
      "n=11, t=5, d=6\n",
      "n=13, t=6, d=4\n"
     ]
    }
   ],
   "source": [
    "print(\"Noho apn \")\n",
    "for t in range(2, 7):\n",
    "    niho_apn = getNihoApn(t)\n",
    "    degree = calculate_degree_of_transform(niho_apn)\n",
    "    print('n=' + str(2 * t + 1) + ', t=' + str(t) + \", d=\" + str(degree))"
   ]
  },
  {
   "cell_type": "code",
   "execution_count": 18,
   "metadata": {},
   "outputs": [],
   "source": [
    "def getInversionApn(t):\n",
    "    n = 2 * t + 1\n",
    "    power = 2 ** (2 * t) - 1\n",
    "    F = ffield.FField(n)\n",
    "    res_transform = []\n",
    "    for i in range(2**n):\n",
    "        res_transform.append(powF(i, power, F))\n",
    "    return res_transform  "
   ]
  },
  {
   "cell_type": "code",
   "execution_count": 19,
   "metadata": {},
   "outputs": [
    {
     "name": "stdout",
     "output_type": "stream",
     "text": [
      "Inversion apn\n",
      "n=3, t=1, d=2\n",
      "n=5, t=2, d=4\n",
      "n=7, t=3, d=6\n",
      "n=9, t=4, d=8\n",
      "n=11, t=5, d=10\n",
      "n=13, t=6, d=12\n"
     ]
    }
   ],
   "source": [
    "print(\"Inversion apn\")\n",
    "for t in range(1, 7):\n",
    "    inversion_apn = getInversionApn(t)\n",
    "    degree = calculate_degree_of_transform(inversion_apn)\n",
    "    print('n=' + str(2 * t + 1) + ', t=' + str(t) + \", d=\" + str(degree))"
   ]
  },
  {
   "cell_type": "code",
   "execution_count": 20,
   "metadata": {
    "collapsed": true
   },
   "outputs": [],
   "source": [
    "def getDobbertinApn(i):\n",
    "    n = 5 * i\n",
    "    power = 2 ** (4 * i) + 2 ** (3 * i) + 2 ** (2 * i) + 2 ** i - 1\n",
    "    F = ffield.FField(n)\n",
    "    res_transform = []\n",
    "    for i in range(2**n):\n",
    "        res_transform.append(powF(i, power, F))\n",
    "    return res_transform  "
   ]
  },
  {
   "cell_type": "code",
   "execution_count": 23,
   "metadata": {},
   "outputs": [
    {
     "name": "stdout",
     "output_type": "stream",
     "text": [
      "Dobbertin apn\n",
      "n=5, t=1, d=4\n",
      "n=10, t=2, d=5\n"
     ]
    }
   ],
   "source": [
    "print(\"Dobbertin apn\")\n",
    "for i in range(1, 3):\n",
    "    dobbertin_apn = getDobbertinApn(i)\n",
    "    degree = calculate_degree_of_transform(dobbertin_apn)\n",
    "    print('n=' + str(5 * i) + ', t=' + str(i) + \", d=\" + str(degree))"
   ]
  },
  {
   "cell_type": "code",
   "execution_count": null,
   "metadata": {
    "collapsed": true
   },
   "outputs": [],
   "source": []
  }
 ],
 "metadata": {
  "kernelspec": {
   "display_name": "Python 3",
   "language": "python",
   "name": "python3"
  },
  "language_info": {
   "codemirror_mode": {
    "name": "ipython",
    "version": 3
   },
   "file_extension": ".py",
   "mimetype": "text/x-python",
   "name": "python",
   "nbconvert_exporter": "python",
   "pygments_lexer": "ipython3",
   "version": "3.6.2"
  }
 },
 "nbformat": 4,
 "nbformat_minor": 2
}
