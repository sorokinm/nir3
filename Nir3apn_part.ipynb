{
 "cells": [
  {
   "cell_type": "code",
   "execution_count": 7,
   "metadata": {
    "collapsed": true
   },
   "outputs": [],
   "source": [
    "from pyfinite import ffield\n",
    "import math\n",
    "import numpy as np"
   ]
  },
  {
   "cell_type": "code",
   "execution_count": 2,
   "metadata": {
    "collapsed": true
   },
   "outputs": [],
   "source": [
    "F = ffield.FField(5)\n"
   ]
  },
  {
   "cell_type": "code",
   "execution_count": 4,
   "metadata": {},
   "outputs": [
    {
     "data": {
      "text/plain": [
       "'x^2 + x^1 + 1'"
      ]
     },
     "execution_count": 4,
     "metadata": {},
     "output_type": "execute_result"
    }
   ],
   "source": [
    "a = 7\n",
    "F.ShowPolynomial(a) # show the polynomial representation of a"
   ]
  },
  {
   "cell_type": "code",
   "execution_count": 9,
   "metadata": {
    "collapsed": true
   },
   "outputs": [],
   "source": [
    "def get_function_to_Zhegalkin_coeffs_matrix_G(n):\n",
    "    if n in get_function_to_Zhegalkin_coeffs_matrix_G.cache:\n",
    "        return get_function_to_Zhegalkin_coeffs_matrix_G.cache[n]\n",
    "    \n",
    "    G_n_prev = get_function_to_Zhegalkin_coeffs_matrix_G(n - 1)\n",
    "    result = np.asmatrix(np.vstack([np.hstack([G_n_prev, np.zeros(G_n_prev.shape, dtype=int)]),\\\n",
    "                                    np.hstack([G_n_prev, G_n_prev])]))\n",
    "    \n",
    "    get_function_to_Zhegalkin_coeffs_matrix_G.cache[n] = result\n",
    "    return result\n",
    "\n",
    "get_function_to_Zhegalkin_coeffs_matrix_G.cache = {0: np.matrix([1], dtype=int)}"
   ]
  },
  {
   "cell_type": "code",
   "execution_count": 10,
   "metadata": {
    "collapsed": true
   },
   "outputs": [],
   "source": [
    "def get_positional_functions(permutation):\n",
    "    n = round(math.log(len(permutation), 2))\n",
    "    result = []\n",
    "    for i in range(n):\n",
    "        shift = n - i - 1\n",
    "        another_function = [ (permutation[j] >> shift) & 1 for j in range(len(permutation)) ]\n",
    "        result.append(np.matrix(another_function).T)\n",
    "    return result"
   ]
  },
  {
   "cell_type": "code",
   "execution_count": 11,
   "metadata": {},
   "outputs": [
    {
     "data": {
      "text/plain": [
       "matrix([[1, 0, 0, 0],\n",
       "        [1, 1, 0, 0],\n",
       "        [1, 0, 1, 0],\n",
       "        [1, 1, 1, 1]])"
      ]
     },
     "execution_count": 11,
     "metadata": {},
     "output_type": "execute_result"
    }
   ],
   "source": [
    "get_function_to_Zhegalkin_coeffs_matrix_G(2)"
   ]
  },
  {
   "cell_type": "code",
   "execution_count": 23,
   "metadata": {
    "collapsed": true
   },
   "outputs": [],
   "source": [
    "def str_Zhegalkin_polynomial(Zhegalkin_coeffs):\n",
    "    n = round(math.log(len(Zhegalkin_coeffs), 2))\n",
    "    included_conjunctions = []\n",
    "    \n",
    "    for i in range(1, len(Zhegalkin_coeffs)):\n",
    "        if Zhegalkin_coeffs[i]:\n",
    "            variable_vector = []\n",
    "            included_variables = bin(i)[2:].zfill(n)\n",
    "            for j in range(len(included_variables)):\n",
    "                if included_variables[j] != '0':\n",
    "                    variable_vector.append(j + 1)\n",
    "            included_conjunctions.append(variable_vector)\n",
    "    \n",
    "    included_conjunctions.sort(key=lambda conj: (len(conj), conj))\n",
    "    conjunctions_strings = [conjunction_to_str(conj) for conj in included_conjunctions]\n",
    "    if Zhegalkin_coeffs[0]:\n",
    "        conjunctions_strings = ['1'] + conjunctions_strings\n",
    "    return ' ⊕ '.join(conjunctions_strings)"
   ]
  },
  {
   "cell_type": "code",
   "execution_count": 26,
   "metadata": {
    "collapsed": true
   },
   "outputs": [],
   "source": [
    "def conjunction_to_str(conjunction):\n",
    "    \"\"\"Конвертирует конъюнкцию, представляемую вектором входящих переменных, в строковую запись.\n",
    "    [1, 3, 4] -> x1x3x4\n",
    "    с нижними индексами в Libre Office.\"\"\"\n",
    "    \n",
    "    return ''.join(map(lambda var: \"x_{{{}}}\".format(var), conjunction))  # Господи, питон, серьёзно?"
   ]
  },
  {
   "cell_type": "code",
   "execution_count": 63,
   "metadata": {},
   "outputs": [],
   "source": [
    "def zhegalkin_polynomials_from_transform(permutation):\n",
    "    n = round(math.log(len(permutation), 2))\n",
    "    \n",
    "    positional_functions = get_positional_functions(permutation)\n",
    "    print(positional_functions)\n",
    "    positional_functions_Zhegalkin_polynomials =\\\n",
    "        [(get_function_to_Zhegalkin_coeffs_matrix_G(n) * positional_function) % 2 for\\\n",
    "         positional_function in positional_functions]\n",
    "    print(positional_functions_Zhegalkin_polynomials)\n",
    "        \n",
    "    positional_functions_Zhegalkin_polynomials = map(lambda matrix: matrix.A1,\\\n",
    "                                                     positional_functions_Zhegalkin_polynomials)\n",
    "    positional_functions_Zhegalkin_polynomials = list(positional_functions_Zhegalkin_polynomials)\n",
    "    \n",
    "    Zhegalkin_polynomials_strings = map(str_Zhegalkin_polynomial, positional_functions_Zhegalkin_polynomials)\n",
    "    Zhegalkin_polynomials_strings = list(Zhegalkin_polynomials_strings)\n",
    "    print(Zhegalkin_polynomials_strings)\n",
    "    \n",
    "    for i in range(len(Zhegalkin_polynomials_strings)):\n",
    "        Zhegalkin_polynomials_strings[i] = 'y_{{{}}} = '.format(i + 1) + Zhegalkin_polynomials_strings[i]\n",
    "    return '; '.join(Zhegalkin_polynomials_strings)"
   ]
  },
  {
   "cell_type": "code",
   "execution_count": 64,
   "metadata": {},
   "outputs": [
    {
     "name": "stdout",
     "output_type": "stream",
     "text": [
      "[matrix([[1],\n",
      "        [1],\n",
      "        [1],\n",
      "        [1]]), matrix([[1],\n",
      "        [1],\n",
      "        [1],\n",
      "        [0]])]\n",
      "[matrix([[1],\n",
      "        [0],\n",
      "        [0],\n",
      "        [0]]), matrix([[1],\n",
      "        [0],\n",
      "        [0],\n",
      "        [1]])]\n",
      "['1', '1 ⊕ x_{1}x_{2}']\n"
     ]
    },
    {
     "data": {
      "text/plain": [
       "'y_{1} = 1; y_{2} = 1 ⊕ x_{1}x_{2}'"
      ]
     },
     "execution_count": 64,
     "metadata": {},
     "output_type": "execute_result"
    }
   ],
   "source": [
    "zhegalkin_polynomials_from_transform([3,3,3,2])"
   ]
  },
  {
   "cell_type": "code",
   "execution_count": 39,
   "metadata": {
    "collapsed": true
   },
   "outputs": [],
   "source": [
    "def mult(elem1, elem2, field):\n",
    "    return field.Multiply(elem1, elem2)"
   ]
  },
  {
   "cell_type": "code",
   "execution_count": 40,
   "metadata": {},
   "outputs": [],
   "source": [
    "def powF(elem, power, field):\n",
    "    if power < 1 or isinstance(power, int) == False :\n",
    "        raise Exception('power must be 1 or more and integer')\n",
    "    res = elem\n",
    "    for i in range(power - 1):\n",
    "        res = mult(res, elem, field)\n",
    "    return res\n",
    "        "
   ]
  },
  {
   "cell_type": "code",
   "execution_count": 53,
   "metadata": {
    "collapsed": true
   },
   "outputs": [],
   "source": [
    "def getKloostermanApn(n=3):\n",
    "    if n % 2 == 0:\n",
    "        raise Exception('n must be odd')\n",
    "    F = ffield.FField(n)\n",
    "    power = 2 ** n - 2\n",
    "    res_transform = []\n",
    "    for i in range(2**n):\n",
    "        res_transform.append(powF(i, power, F))\n",
    "    return res_transform\n",
    "    "
   ]
  },
  {
   "cell_type": "code",
   "execution_count": 54,
   "metadata": {},
   "outputs": [
    {
     "data": {
      "text/plain": [
       "0"
      ]
     },
     "execution_count": 54,
     "metadata": {},
     "output_type": "execute_result"
    }
   ],
   "source": [
    "powF(0,9,ffield.FField(2))"
   ]
  },
  {
   "cell_type": "code",
   "execution_count": 57,
   "metadata": {},
   "outputs": [
    {
     "data": {
      "text/plain": [
       "[0, 1, 5, 6, 7, 2, 3, 4]"
      ]
     },
     "execution_count": 57,
     "metadata": {},
     "output_type": "execute_result"
    }
   ],
   "source": [
    "getKloostermanApn(3)"
   ]
  },
  {
   "cell_type": "code",
   "execution_count": 58,
   "metadata": {
    "collapsed": true
   },
   "outputs": [],
   "source": [
    "def isPermutation(transform):\n",
    "    return len(set(transform)) == len(transform)"
   ]
  },
  {
   "cell_type": "code",
   "execution_count": 62,
   "metadata": {},
   "outputs": [
    {
     "data": {
      "text/plain": [
       "True"
      ]
     },
     "execution_count": 62,
     "metadata": {},
     "output_type": "execute_result"
    }
   ],
   "source": [
    "isPermutation(getKloostermanApn(9))"
   ]
  },
  {
   "cell_type": "code",
   "execution_count": null,
   "metadata": {
    "collapsed": true
   },
   "outputs": [],
   "source": []
  }
 ],
 "metadata": {
  "kernelspec": {
   "display_name": "Python 3",
   "language": "python",
   "name": "python3"
  },
  "language_info": {
   "codemirror_mode": {
    "name": "ipython",
    "version": 3
   },
   "file_extension": ".py",
   "mimetype": "text/x-python",
   "name": "python",
   "nbconvert_exporter": "python",
   "pygments_lexer": "ipython3",
   "version": "3.6.2"
  }
 },
 "nbformat": 4,
 "nbformat_minor": 2
}
