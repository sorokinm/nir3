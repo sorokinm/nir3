{
 "cells": [
  {
   "cell_type": "code",
   "execution_count": 1,
   "metadata": {
    "collapsed": true
   },
   "outputs": [],
   "source": [
    "from pyfinite import ffield\n",
    "import math\n",
    "import numpy as np"
   ]
  },
  {
   "cell_type": "code",
   "execution_count": 3,
   "metadata": {
    "collapsed": true
   },
   "outputs": [],
   "source": [
    "F = ffield.FField(5)\n"
   ]
  },
  {
   "cell_type": "code",
   "execution_count": 8,
   "metadata": {},
   "outputs": [
    {
     "data": {
      "text/plain": [
       "<pyfinite.ffield.FField at 0x7f5b94111e80>"
      ]
     },
     "execution_count": 8,
     "metadata": {},
     "output_type": "execute_result"
    }
   ],
   "source": [
    "a = 7\n",
    "F.ShowPolynomial(a) # show the polynomial representation of a\n",
    "F"
   ]
  },
  {
   "cell_type": "code",
   "execution_count": 2,
   "metadata": {
    "collapsed": true
   },
   "outputs": [],
   "source": [
    "def get_function_to_Zhegalkin_coeffs_matrix_G(n):\n",
    "    if n in get_function_to_Zhegalkin_coeffs_matrix_G.cache:\n",
    "        return get_function_to_Zhegalkin_coeffs_matrix_G.cache[n]\n",
    "    \n",
    "    G_n_prev = get_function_to_Zhegalkin_coeffs_matrix_G(n - 1)\n",
    "    result = np.asmatrix(np.vstack([np.hstack([G_n_prev, np.zeros(G_n_prev.shape, dtype=int)]),\\\n",
    "                                    np.hstack([G_n_prev, G_n_prev])]))\n",
    "    \n",
    "    get_function_to_Zhegalkin_coeffs_matrix_G.cache[n] = result\n",
    "    return result\n",
    "\n",
    "get_function_to_Zhegalkin_coeffs_matrix_G.cache = {0: np.matrix([1], dtype=int)}"
   ]
  },
  {
   "cell_type": "code",
   "execution_count": 3,
   "metadata": {
    "collapsed": true
   },
   "outputs": [],
   "source": [
    "def get_positional_functions(permutation):\n",
    "    n = round(math.log(len(permutation), 2))\n",
    "    result = []\n",
    "    for i in range(n):\n",
    "        shift = n - i - 1\n",
    "        another_function = [ (permutation[j] >> shift) & 1 for j in range(len(permutation)) ]\n",
    "        result.append(np.matrix(another_function).T)\n",
    "    return result"
   ]
  },
  {
   "cell_type": "code",
   "execution_count": 40,
   "metadata": {},
   "outputs": [
    {
     "data": {
      "text/plain": [
       "matrix([[1, 0, 0, 0],\n",
       "        [1, 1, 0, 0],\n",
       "        [1, 0, 1, 0],\n",
       "        [1, 1, 1, 1]])"
      ]
     },
     "execution_count": 40,
     "metadata": {},
     "output_type": "execute_result"
    }
   ],
   "source": [
    "get_function_to_Zhegalkin_coeffs_matrix_G(2)"
   ]
  },
  {
   "cell_type": "code",
   "execution_count": 4,
   "metadata": {
    "collapsed": true
   },
   "outputs": [],
   "source": [
    "def get_conjunctions(Zhegalkin_coeffs):\n",
    "    n = round(math.log(len(Zhegalkin_coeffs), 2))\n",
    "    included_conjunctions = []\n",
    "    \n",
    "    for i in range(1, len(Zhegalkin_coeffs)):\n",
    "        if Zhegalkin_coeffs[i]:\n",
    "            variable_vector = []\n",
    "            included_variables = bin(i)[2:].zfill(n)\n",
    "            for j in range(len(included_variables)):\n",
    "                if included_variables[j] != '0':\n",
    "                    variable_vector.append(j + 1)\n",
    "            included_conjunctions.append(variable_vector)\n",
    "    \n",
    "    included_conjunctions.sort(key=lambda conj: (len(conj), conj))\n",
    "    return included_conjunctions"
   ]
  },
  {
   "cell_type": "code",
   "execution_count": 5,
   "metadata": {
    "collapsed": true
   },
   "outputs": [],
   "source": [
    "def str_Zhegalkin_polynomial(Zhegalkin_coeffs):  \n",
    "    included_conjunctions = get_conjunctions(Zhegalkin_coeffs)\n",
    "    \n",
    "    conjunctions_strings = [conjunction_to_str(conj) for conj in included_conjunctions]\n",
    "    if Zhegalkin_coeffs[0]:\n",
    "        conjunctions_strings = ['1'] + conjunctions_strings\n",
    "    return ' ⊕ '.join(conjunctions_strings)"
   ]
  },
  {
   "cell_type": "code",
   "execution_count": 6,
   "metadata": {
    "collapsed": true
   },
   "outputs": [],
   "source": [
    "def conjunction_to_str(conjunction):\n",
    "    \"\"\"Конвертирует конъюнкцию, представляемую вектором входящих переменных, в строковую запись.\n",
    "    [1, 3, 4] -> x1x3x4\n",
    "    с нижними индексами в Libre Office.\"\"\"\n",
    "    \n",
    "    return ''.join(map(lambda var: \"x_{{{}}}\".format(var), conjunction))"
   ]
  },
  {
   "cell_type": "code",
   "execution_count": 7,
   "metadata": {
    "collapsed": true
   },
   "outputs": [],
   "source": [
    "def zhegalkin_polynomials_from_transform(permutation):\n",
    "    n = round(math.log(len(permutation), 2))\n",
    "    \n",
    "    positional_functions = get_positional_functions(permutation)\n",
    "    #print(positional_functions)\n",
    "    positional_functions_Zhegalkin_polynomials =\\\n",
    "        [(get_function_to_Zhegalkin_coeffs_matrix_G(n) * positional_function) % 2 for\\\n",
    "         positional_function in positional_functions]\n",
    "    #print(positional_functions_Zhegalkin_polynomials)\n",
    "        \n",
    "    positional_functions_Zhegalkin_polynomials = map(lambda matrix: matrix.A1,\\\n",
    "                                                     positional_functions_Zhegalkin_polynomials)\n",
    "    positional_functions_Zhegalkin_polynomials = list(positional_functions_Zhegalkin_polynomials)\n",
    "    \n",
    "    Zhegalkin_polynomials_strings = map(str_Zhegalkin_polynomial, positional_functions_Zhegalkin_polynomials)\n",
    "    Zhegalkin_polynomials_strings = list(Zhegalkin_polynomials_strings)\n",
    "    #print(Zhegalkin_polynomials_strings)\n",
    "    \n",
    "    for i in range(len(Zhegalkin_polynomials_strings)):\n",
    "        Zhegalkin_polynomials_strings[i] = 'y_{{{}}} = '.format(i + 1) + Zhegalkin_polynomials_strings[i]\n",
    "    return '; '.join(Zhegalkin_polynomials_strings)"
   ]
  },
  {
   "cell_type": "code",
   "execution_count": 8,
   "metadata": {
    "collapsed": true
   },
   "outputs": [],
   "source": [
    "def calculate_degree_of_transform(transform):\n",
    "    n = round(math.log(len(transform), 2))\n",
    "    \n",
    "    positional_functions = get_positional_functions(transform)\n",
    "    \n",
    "    positional_functions_Zhegalkin_polynomials =\\\n",
    "    [(get_function_to_Zhegalkin_coeffs_matrix_G(n) * positional_function) % 2 for\\\n",
    "     positional_function in positional_functions]\n",
    "    \n",
    "    positional_functions_Zhegalkin_polynomials = map(lambda matrix: matrix.A1,\\\n",
    "                                                     positional_functions_Zhegalkin_polynomials)\n",
    "    positional_functions_Zhegalkin_polynomials = list(positional_functions_Zhegalkin_polynomials)\n",
    "    \n",
    "    Zhegalkin_polynomials_conjunctions = map(get_conjunctions, positional_functions_Zhegalkin_polynomials)\n",
    "    Zhegalkin_polynomials_conjunctions = list(Zhegalkin_polynomials_conjunctions)\n",
    "    max_deg = 0\n",
    "    for lst in Zhegalkin_polynomials_conjunctions:\n",
    "        for list_item in lst:\n",
    "            if max_deg < len(list_item):\n",
    "                max_deg = len(list_item)\n",
    "    return max_deg   \n",
    "    "
   ]
  },
  {
   "cell_type": "code",
   "execution_count": 46,
   "metadata": {},
   "outputs": [
    {
     "data": {
      "text/plain": [
       "'y_{1} = 1; y_{2} = 1 ⊕ x_{1}x_{2}'"
      ]
     },
     "execution_count": 46,
     "metadata": {},
     "output_type": "execute_result"
    }
   ],
   "source": [
    "zhegalkin_polynomials_from_transform([3,3,3,2])"
   ]
  },
  {
   "cell_type": "code",
   "execution_count": 47,
   "metadata": {},
   "outputs": [
    {
     "data": {
      "text/plain": [
       "2"
      ]
     },
     "execution_count": 47,
     "metadata": {},
     "output_type": "execute_result"
    }
   ],
   "source": [
    "calculate_degree_of_transform([3,3,3,2])"
   ]
  },
  {
   "cell_type": "code",
   "execution_count": 9,
   "metadata": {
    "collapsed": true
   },
   "outputs": [],
   "source": [
    "def mult(elem1, elem2, field):\n",
    "    return field.Multiply(elem1, elem2)"
   ]
  },
  {
   "cell_type": "code",
   "execution_count": 10,
   "metadata": {
    "collapsed": true
   },
   "outputs": [],
   "source": [
    "def powF(elem, power, field):\n",
    "    if power < 1 or isinstance(power, int) == False :\n",
    "        raise Exception('power must be 1 or more and integer')\n",
    "    res = elem\n",
    "    for i in range(power - 1):\n",
    "        res = mult(res, elem, field)\n",
    "    return res\n",
    "        "
   ]
  },
  {
   "cell_type": "code",
   "execution_count": 4,
   "metadata": {
    "collapsed": true
   },
   "outputs": [],
   "source": [
    "def getKloostermanApn(n=3):\n",
    "    if n % 2 == 0:\n",
    "        raise Exception('n must be odd')\n",
    "    F = ffield.FField(n)\n",
    "    power = 2 ** n - 2\n",
    "    res_transform = []\n",
    "    for i in range(2**n):\n",
    "        res_transform.append(powF(i, power, F))\n",
    "    return res_transform\n",
    "    "
   ]
  },
  {
   "cell_type": "code",
   "execution_count": 19,
   "metadata": {},
   "outputs": [
    {
     "data": {
      "text/plain": [
       "0"
      ]
     },
     "execution_count": 19,
     "metadata": {},
     "output_type": "execute_result"
    }
   ],
   "source": [
    "powF(0,9,ffield.FField(2))"
   ]
  },
  {
   "cell_type": "code",
   "execution_count": 20,
   "metadata": {},
   "outputs": [
    {
     "data": {
      "text/plain": [
       "[0, 1, 5, 6, 7, 2, 3, 4]"
      ]
     },
     "execution_count": 20,
     "metadata": {},
     "output_type": "execute_result"
    }
   ],
   "source": [
    "getKloostermanApn(3)"
   ]
  },
  {
   "cell_type": "code",
   "execution_count": 11,
   "metadata": {
    "collapsed": true
   },
   "outputs": [],
   "source": [
    "def isPermutation(transform):\n",
    "    return len(set(transform)) == len(transform)"
   ]
  },
  {
   "cell_type": "code",
   "execution_count": 22,
   "metadata": {},
   "outputs": [
    {
     "data": {
      "text/plain": [
       "True"
      ]
     },
     "execution_count": 22,
     "metadata": {},
     "output_type": "execute_result"
    }
   ],
   "source": [
    "isPermutation(getKloostermanApn(9))"
   ]
  },
  {
   "cell_type": "code",
   "execution_count": 23,
   "metadata": {},
   "outputs": [
    {
     "data": {
      "text/plain": [
       "'y_{1} = x_{1} ⊕ x_{2} ⊕ x_{1}x_{3}; y_{2} = x_{1} ⊕ x_{2}x_{3}; y_{3} = x_{1} ⊕ x_{2} ⊕ x_{3} ⊕ x_{1}x_{2}'"
      ]
     },
     "execution_count": 23,
     "metadata": {},
     "output_type": "execute_result"
    }
   ],
   "source": [
    "zhegalkin_polynomials_from_transform(getKloostermanApn(3))"
   ]
  },
  {
   "cell_type": "code",
   "execution_count": 24,
   "metadata": {},
   "outputs": [
    {
     "data": {
      "text/plain": [
       "2"
      ]
     },
     "execution_count": 24,
     "metadata": {},
     "output_type": "execute_result"
    }
   ],
   "source": [
    "calculate_degree_of_transform(getKloostermanApn(3))"
   ]
  },
  {
   "cell_type": "code",
   "execution_count": 53,
   "metadata": {},
   "outputs": [
    {
     "name": "stdout",
     "output_type": "stream",
     "text": [
      "n= 3 d= 2\n",
      "n= 5 d= 4\n",
      "n= 7 d= 6\n",
      "n= 9 d= 8\n",
      "n= 11 d= 10\n"
     ]
    }
   ],
   "source": [
    "for i in range(3, 13, 2):\n",
    "    print(\"n= \" + str(i) + \" d= \" + str(calculate_degree_of_transform(getKloostermanApn(i))))"
   ]
  },
  {
   "cell_type": "code",
   "execution_count": 28,
   "metadata": {},
   "outputs": [
    {
     "name": "stdout",
     "output_type": "stream",
     "text": [
      "1\n"
     ]
    }
   ],
   "source": [
    "print(math.gcd(1, 19))"
   ]
  },
  {
   "cell_type": "code",
   "execution_count": 12,
   "metadata": {
    "collapsed": true
   },
   "outputs": [],
   "source": [
    "def get_i_list_gcd_n_1(n):\n",
    "    res_l = []\n",
    "    i = 1\n",
    "    while i <= n:\n",
    "        if math.gcd(n, i) == 1:\n",
    "            res_l.append(i)\n",
    "        i += 1\n",
    "    return res_l            "
   ]
  },
  {
   "cell_type": "code",
   "execution_count": 13,
   "metadata": {
    "collapsed": true
   },
   "outputs": [],
   "source": [
    "for i in range(3, 13):\n",
    "    get_i_list_gcd_n_1(i)"
   ]
  },
  {
   "cell_type": "code",
   "execution_count": 38,
   "metadata": {
    "collapsed": true
   },
   "outputs": [],
   "source": [
    "def getGoldApn(n, i):\n",
    "    if math.gcd(n,i) != 1:\n",
    "        raise Exception('gcd(n,i) must be 1')\n",
    "    F = ffield.FField(n)\n",
    "    power = 2 ** i + 1\n",
    "    res_transform = []\n",
    "    for i in range(2**n):\n",
    "        res_transform.append(powF(i, power, F))\n",
    "    return res_transform\n",
    "    "
   ]
  },
  {
   "cell_type": "code",
   "execution_count": 52,
   "metadata": {
    "scrolled": true
   },
   "outputs": [
    {
     "name": "stdout",
     "output_type": "stream",
     "text": [
      "n=2, i=1, d=2\n",
      "n=3, i=1, d=2\n",
      "n=3, i=2, d=2\n",
      "n=4, i=1, d=2\n",
      "n=4, i=3, d=2\n",
      "n=5, i=1, d=2\n",
      "n=5, i=2, d=2\n",
      "n=5, i=3, d=2\n",
      "n=5, i=4, d=2\n",
      "n=6, i=1, d=2\n",
      "n=6, i=5, d=2\n",
      "n=7, i=1, d=2\n",
      "n=7, i=2, d=2\n",
      "n=7, i=3, d=2\n",
      "n=7, i=4, d=2\n",
      "n=7, i=5, d=2\n",
      "n=7, i=6, d=2\n",
      "n=8, i=1, d=2\n",
      "n=8, i=3, d=2\n",
      "n=8, i=5, d=2\n",
      "n=8, i=7, d=2\n",
      "n=9, i=1, d=2\n",
      "n=9, i=2, d=2\n",
      "n=9, i=4, d=2\n",
      "n=9, i=5, d=2\n",
      "n=9, i=7, d=2\n",
      "n=9, i=8, d=2\n",
      "n=10, i=1, d=2\n",
      "n=10, i=3, d=2\n",
      "n=10, i=7, d=2\n",
      "n=10, i=9, d=2\n",
      "n=11, i=1, d=2\n",
      "n=11, i=2, d=2\n",
      "n=11, i=3, d=2\n",
      "n=11, i=4, d=2\n",
      "n=11, i=5, d=2\n",
      "n=11, i=6, d=2\n",
      "n=11, i=7, d=2\n",
      "n=11, i=8, d=2\n",
      "n=11, i=9, d=2\n",
      "n=11, i=10, d=2\n",
      "n=12, i=1, d=2\n",
      "n=12, i=5, d=2\n",
      "n=12, i=7, d=2\n",
      "n=12, i=11, d=2\n"
     ]
    }
   ],
   "source": [
    "print(\"Gold apn x ^ (2 ^ i + 1)\")\n",
    "for n in range(2, 13):\n",
    "    powers = get_i_list_gcd_n_1(n)\n",
    "    for i in powers:\n",
    "        gold_apn = getGoldApn(n, i)\n",
    "        degree = calculate_degree_of_transform(gold_apn)\n",
    "        print('n=' + str(n) + ', i=' + str(i) + \", d=\" + str(degree))"
   ]
  },
  {
   "cell_type": "code",
   "execution_count": 55,
   "metadata": {},
   "outputs": [
    {
     "name": "stdout",
     "output_type": "stream",
     "text": [
      "Division by: 8\n",
      "[8, 0, 0, 0, 0, 0, 0, 0]\n",
      "[8, 0, 0, 0, 0, 0, 0, 0]\n",
      "[8, 0, 0, 0, 0, 0, 0, 0]\n",
      "[8, 0, 0, 0, 0, 0, 0, 0]\n",
      "[8, 0, 0, 0, 0, 0, 0, 0]\n",
      "[8, 0, 0, 0, 0, 0, 0, 0]\n",
      "[8, 0, 0, 0, 0, 0, 0, 0]\n",
      "[8, 0, 0, 0, 0, 0, 0, 0]\n"
     ]
    }
   ],
   "source": [
    "perm=[1,1,1,1,1,1,1,1]\n",
    "\n",
    "r = perm\n",
    "power=len(perm)\n",
    "\n",
    "matr=[[0 for i in range(len(r))] for i in range(len(r))]\n",
    "\n",
    "\n",
    "for e in range(0,len(r)):\n",
    "    for a in range (0,len(r)):\n",
    "        s=perm[a^e]^perm[a]\n",
    "        matr[e][s]+=1\n",
    "\n",
    "print(\"Division by: \"+str(power))\n",
    "for i in range(0,len(r)):\n",
    "    print(matr[i])"
   ]
  },
  {
   "cell_type": "code",
   "execution_count": 54,
   "metadata": {
    "collapsed": true
   },
   "outputs": [],
   "source": [
    "def getKasamiApn(n, i):\n",
    "    if math.gcd(n,i) != 1:\n",
    "        raise Exception('gcd(n,i) must be 1')\n",
    "    F = ffield.FField(n)\n",
    "    power = 2 ** (2 * i)- 2 ** i + 1\n",
    "    res_transform = []\n",
    "    for i in range(2**n):\n",
    "        res_transform.append(powF(i, power, F))\n",
    "    return res_transform"
   ]
  },
  {
   "cell_type": "code",
   "execution_count": 58,
   "metadata": {},
   "outputs": [
    {
     "name": "stdout",
     "output_type": "stream",
     "text": [
      "Kasami apn 2 ^ 2i - 2 ^ i + 1\n",
      "n=2, i=1, d=2\n",
      "n=3, i=1, d=2\n",
      "n=3, i=2, d=2\n",
      "n=4, i=1, d=2\n",
      "n=4, i=3, d=2\n",
      "n=5, i=1, d=2\n",
      "n=5, i=2, d=3\n",
      "n=5, i=3, d=3\n",
      "n=5, i=4, d=2\n",
      "n=6, i=1, d=2\n",
      "n=6, i=5, d=2\n",
      "n=7, i=1, d=2\n",
      "n=7, i=2, d=3\n",
      "n=7, i=3, d=4\n",
      "n=7, i=4, d=4\n",
      "n=7, i=5, d=3\n",
      "n=7, i=6, d=2\n",
      "n=8, i=1, d=2\n",
      "n=8, i=3, d=4\n",
      "n=8, i=5, d=4\n",
      "n=8, i=7, d=2\n",
      "n=9, i=1, d=2\n",
      "n=9, i=2, d=3\n",
      "n=9, i=4, d=5\n",
      "n=9, i=5, d=5\n",
      "n=9, i=7, d=3\n",
      "n=9, i=8, d=2\n",
      "n=10, i=1, d=2\n",
      "n=10, i=3, d=4\n",
      "n=10, i=7, d=4\n"
     ]
    },
    {
     "ename": "KeyboardInterrupt",
     "evalue": "",
     "output_type": "error",
     "traceback": [
      "\u001b[0;31m---------------------------------------------------------------------------\u001b[0m",
      "\u001b[0;31mKeyboardInterrupt\u001b[0m                         Traceback (most recent call last)",
      "\u001b[0;32m<ipython-input-58-54cb8f66632b>\u001b[0m in \u001b[0;36m<module>\u001b[0;34m()\u001b[0m\n\u001b[1;32m      3\u001b[0m     \u001b[0mpowers\u001b[0m \u001b[0;34m=\u001b[0m \u001b[0mget_i_list_gcd_n_1\u001b[0m\u001b[0;34m(\u001b[0m\u001b[0mn\u001b[0m\u001b[0;34m)\u001b[0m\u001b[0;34m\u001b[0m\u001b[0m\n\u001b[1;32m      4\u001b[0m     \u001b[0;32mfor\u001b[0m \u001b[0mi\u001b[0m \u001b[0;32min\u001b[0m \u001b[0mpowers\u001b[0m\u001b[0;34m:\u001b[0m\u001b[0;34m\u001b[0m\u001b[0m\n\u001b[0;32m----> 5\u001b[0;31m         \u001b[0mkasami_apn\u001b[0m \u001b[0;34m=\u001b[0m \u001b[0mgetKasamiApn\u001b[0m\u001b[0;34m(\u001b[0m\u001b[0mn\u001b[0m\u001b[0;34m,\u001b[0m \u001b[0mi\u001b[0m\u001b[0;34m)\u001b[0m\u001b[0;34m\u001b[0m\u001b[0m\n\u001b[0m\u001b[1;32m      6\u001b[0m         \u001b[0mdegree\u001b[0m \u001b[0;34m=\u001b[0m \u001b[0mcalculate_degree_of_transform\u001b[0m\u001b[0;34m(\u001b[0m\u001b[0mkasami_apn\u001b[0m\u001b[0;34m)\u001b[0m\u001b[0;34m\u001b[0m\u001b[0m\n\u001b[1;32m      7\u001b[0m         \u001b[0mprint\u001b[0m\u001b[0;34m(\u001b[0m\u001b[0;34m'n='\u001b[0m \u001b[0;34m+\u001b[0m \u001b[0mstr\u001b[0m\u001b[0;34m(\u001b[0m\u001b[0mn\u001b[0m\u001b[0;34m)\u001b[0m \u001b[0;34m+\u001b[0m \u001b[0;34m', i='\u001b[0m \u001b[0;34m+\u001b[0m \u001b[0mstr\u001b[0m\u001b[0;34m(\u001b[0m\u001b[0mi\u001b[0m\u001b[0;34m)\u001b[0m \u001b[0;34m+\u001b[0m \u001b[0;34m\", d=\"\u001b[0m \u001b[0;34m+\u001b[0m \u001b[0mstr\u001b[0m\u001b[0;34m(\u001b[0m\u001b[0mdegree\u001b[0m\u001b[0;34m)\u001b[0m\u001b[0;34m)\u001b[0m\u001b[0;34m\u001b[0m\u001b[0m\n",
      "\u001b[0;32m<ipython-input-54-df5d0791f787>\u001b[0m in \u001b[0;36mgetKasamiApn\u001b[0;34m(n, i)\u001b[0m\n\u001b[1;32m      6\u001b[0m     \u001b[0mres_transform\u001b[0m \u001b[0;34m=\u001b[0m \u001b[0;34m[\u001b[0m\u001b[0;34m]\u001b[0m\u001b[0;34m\u001b[0m\u001b[0m\n\u001b[1;32m      7\u001b[0m     \u001b[0;32mfor\u001b[0m \u001b[0mi\u001b[0m \u001b[0;32min\u001b[0m \u001b[0mrange\u001b[0m\u001b[0;34m(\u001b[0m\u001b[0;36m2\u001b[0m\u001b[0;34m**\u001b[0m\u001b[0mn\u001b[0m\u001b[0;34m)\u001b[0m\u001b[0;34m:\u001b[0m\u001b[0;34m\u001b[0m\u001b[0m\n\u001b[0;32m----> 8\u001b[0;31m         \u001b[0mres_transform\u001b[0m\u001b[0;34m.\u001b[0m\u001b[0mappend\u001b[0m\u001b[0;34m(\u001b[0m\u001b[0mpowF\u001b[0m\u001b[0;34m(\u001b[0m\u001b[0mi\u001b[0m\u001b[0;34m,\u001b[0m \u001b[0mpower\u001b[0m\u001b[0;34m,\u001b[0m \u001b[0mF\u001b[0m\u001b[0;34m)\u001b[0m\u001b[0;34m)\u001b[0m\u001b[0;34m\u001b[0m\u001b[0m\n\u001b[0m\u001b[1;32m      9\u001b[0m     \u001b[0;32mreturn\u001b[0m \u001b[0mres_transform\u001b[0m\u001b[0;34m\u001b[0m\u001b[0m\n",
      "\u001b[0;32m<ipython-input-17-3416de9b3863>\u001b[0m in \u001b[0;36mpowF\u001b[0;34m(elem, power, field)\u001b[0m\n\u001b[1;32m      4\u001b[0m     \u001b[0mres\u001b[0m \u001b[0;34m=\u001b[0m \u001b[0melem\u001b[0m\u001b[0;34m\u001b[0m\u001b[0m\n\u001b[1;32m      5\u001b[0m     \u001b[0;32mfor\u001b[0m \u001b[0mi\u001b[0m \u001b[0;32min\u001b[0m \u001b[0mrange\u001b[0m\u001b[0;34m(\u001b[0m\u001b[0mpower\u001b[0m \u001b[0;34m-\u001b[0m \u001b[0;36m1\u001b[0m\u001b[0;34m)\u001b[0m\u001b[0;34m:\u001b[0m\u001b[0;34m\u001b[0m\u001b[0m\n\u001b[0;32m----> 6\u001b[0;31m         \u001b[0mres\u001b[0m \u001b[0;34m=\u001b[0m \u001b[0mmult\u001b[0m\u001b[0;34m(\u001b[0m\u001b[0mres\u001b[0m\u001b[0;34m,\u001b[0m \u001b[0melem\u001b[0m\u001b[0;34m,\u001b[0m \u001b[0mfield\u001b[0m\u001b[0;34m)\u001b[0m\u001b[0;34m\u001b[0m\u001b[0m\n\u001b[0m\u001b[1;32m      7\u001b[0m     \u001b[0;32mreturn\u001b[0m \u001b[0mres\u001b[0m\u001b[0;34m\u001b[0m\u001b[0m\n\u001b[1;32m      8\u001b[0m \u001b[0;34m\u001b[0m\u001b[0m\n",
      "\u001b[0;32m<ipython-input-16-14a4827be95b>\u001b[0m in \u001b[0;36mmult\u001b[0;34m(elem1, elem2, field)\u001b[0m\n\u001b[1;32m      1\u001b[0m \u001b[0;32mdef\u001b[0m \u001b[0mmult\u001b[0m\u001b[0;34m(\u001b[0m\u001b[0melem1\u001b[0m\u001b[0;34m,\u001b[0m \u001b[0melem2\u001b[0m\u001b[0;34m,\u001b[0m \u001b[0mfield\u001b[0m\u001b[0;34m)\u001b[0m\u001b[0;34m:\u001b[0m\u001b[0;34m\u001b[0m\u001b[0m\n\u001b[0;32m----> 2\u001b[0;31m     \u001b[0;32mreturn\u001b[0m \u001b[0mfield\u001b[0m\u001b[0;34m.\u001b[0m\u001b[0mMultiply\u001b[0m\u001b[0;34m(\u001b[0m\u001b[0melem1\u001b[0m\u001b[0;34m,\u001b[0m \u001b[0melem2\u001b[0m\u001b[0;34m)\u001b[0m\u001b[0;34m\u001b[0m\u001b[0m\n\u001b[0m",
      "\u001b[0;32m~/anaconda3/lib/python3.6/site-packages/pyfinite/ffield.py\u001b[0m in \u001b[0;36mDoMultiply\u001b[0;34m(self, f, v)\u001b[0m\n\u001b[1;32m    250\u001b[0m         \u001b[0mm\u001b[0m \u001b[0;34m=\u001b[0m \u001b[0mself\u001b[0m\u001b[0;34m.\u001b[0m\u001b[0mMultiplyWithoutReducing\u001b[0m\u001b[0;34m(\u001b[0m\u001b[0mf\u001b[0m\u001b[0;34m,\u001b[0m\u001b[0mv\u001b[0m\u001b[0;34m)\u001b[0m\u001b[0;34m\u001b[0m\u001b[0m\n\u001b[1;32m    251\u001b[0m         return self.FullDivision(m,self.generator,\n\u001b[0;32m--> 252\u001b[0;31m                                  self.FindDegree(m),self.n)[1]\n\u001b[0m\u001b[1;32m    253\u001b[0m \u001b[0;34m\u001b[0m\u001b[0m\n\u001b[1;32m    254\u001b[0m     \u001b[0;32mdef\u001b[0m \u001b[0mDoInverseForSmallField\u001b[0m\u001b[0;34m(\u001b[0m\u001b[0mself\u001b[0m\u001b[0;34m,\u001b[0m\u001b[0mf\u001b[0m\u001b[0;34m)\u001b[0m\u001b[0;34m:\u001b[0m\u001b[0;34m\u001b[0m\u001b[0m\n",
      "\u001b[0;32m~/anaconda3/lib/python3.6/site-packages/pyfinite/ffield.py\u001b[0m in \u001b[0;36mFullDivision\u001b[0;34m(self, f, v, fDegree, vDegree)\u001b[0m\n\u001b[1;32m    343\u001b[0m         \u001b[0mresult\u001b[0m \u001b[0;34m=\u001b[0m \u001b[0;36m0\u001b[0m\u001b[0;34m\u001b[0m\u001b[0m\n\u001b[1;32m    344\u001b[0m         \u001b[0mi\u001b[0m \u001b[0;34m=\u001b[0m \u001b[0mfDegree\u001b[0m\u001b[0;34m\u001b[0m\u001b[0m\n\u001b[0;32m--> 345\u001b[0;31m         \u001b[0mmask\u001b[0m \u001b[0;34m=\u001b[0m \u001b[0mself\u001b[0m\u001b[0;34m.\u001b[0m\u001b[0munity\u001b[0m \u001b[0;34m<<\u001b[0m \u001b[0mi\u001b[0m\u001b[0;34m\u001b[0m\u001b[0m\n\u001b[0m\u001b[1;32m    346\u001b[0m         \u001b[0;32mwhile\u001b[0m \u001b[0;34m(\u001b[0m\u001b[0mi\u001b[0m \u001b[0;34m>=\u001b[0m \u001b[0mvDegree\u001b[0m\u001b[0;34m)\u001b[0m\u001b[0;34m:\u001b[0m\u001b[0;34m\u001b[0m\u001b[0m\n\u001b[1;32m    347\u001b[0m             \u001b[0;32mif\u001b[0m \u001b[0;34m(\u001b[0m\u001b[0mmask\u001b[0m \u001b[0;34m&\u001b[0m \u001b[0mf\u001b[0m\u001b[0;34m)\u001b[0m\u001b[0;34m:\u001b[0m\u001b[0;34m\u001b[0m\u001b[0m\n",
      "\u001b[0;31mKeyboardInterrupt\u001b[0m: "
     ]
    }
   ],
   "source": [
    "print(\"Kasami apn 2 ^ 2i - 2 ^ i + 1\")\n",
    "for n in range(2, 11):\n",
    "    powers = get_i_list_gcd_n_1(n)\n",
    "    for i in powers:\n",
    "        kasami_apn = getKasamiApn(n, i)\n",
    "        degree = calculate_degree_of_transform(kasami_apn)\n",
    "        print('n=' + str(n) + ', i=' + str(i) + \", d=\" + str(degree))"
   ]
  },
  {
   "cell_type": "code",
   "execution_count": 60,
   "metadata": {
    "collapsed": true
   },
   "outputs": [],
   "source": [
    "def getWelchApn(t):\n",
    "    n = 2 * t + 1\n",
    "    power = 2 ** t + 3\n",
    "    F = ffield.FField(n)\n",
    "    res_transform = []\n",
    "    for i in range(2**n):\n",
    "        res_transform.append(powF(i, power, F))\n",
    "    return res_transform    "
   ]
  },
  {
   "cell_type": "code",
   "execution_count": null,
   "metadata": {},
   "outputs": [
    {
     "name": "stdout",
     "output_type": "stream",
     "text": [
      "Welch apn 2 ^ t + 3 n = 2t+1\n",
      "n=5, t=2, d=3\n",
      "n=7, t=3, d=3\n",
      "n=9, t=4, d=3\n",
      "n=11, t=5, d=3\n",
      "n=13, t=6, d=3\n"
     ]
    }
   ],
   "source": [
    "print(\"Welch apn 2 ^ t + 3 n = 2t+1\")\n",
    "for t in range(2, 13):\n",
    "    welch_apn = getWelchApn(t)\n",
    "    degree = calculate_degree_of_transform(welch_apn)\n",
    "    print('n=' + str(2 * t + 1) + ', t=' + str(t) + \", d=\" + str(degree))"
   ]
  },
  {
   "cell_type": "code",
   "execution_count": 19,
   "metadata": {
    "collapsed": true
   },
   "outputs": [],
   "source": [
    "def getNihoApn(t):\n",
    "    n = 2 * t + 1\n",
    "    power = 'Not a power'\n",
    "    if t % 2 == 0:\n",
    "        power = int(2 ** t + 2 ** (t / 2) - 1)\n",
    "    else:\n",
    "        power = int(2 ** t + 2 **((3 * t + 1) / 2) - 1)\n",
    "    F = ffield.FField(n)\n",
    "    res_transform = []\n",
    "    for i in range(2**n):\n",
    "        res_transform.append(powF(i, power, F))\n",
    "    return res_transform  "
   ]
  },
  {
   "cell_type": "code",
   "execution_count": 20,
   "metadata": {},
   "outputs": [
    {
     "name": "stdout",
     "output_type": "stream",
     "text": [
      "Noho apn \n",
      "n=5, t=2, d=2\n",
      "n=7, t=3, d=4\n",
      "n=9, t=4, d=3\n",
      "n=11, t=5, d=6\n",
      "n=13, t=6, d=4\n"
     ]
    }
   ],
   "source": [
    "print(\"Noho apn \")\n",
    "for t in range(2, 7):\n",
    "    niho_apn = getNihoApn(t)\n",
    "    degree = calculate_degree_of_transform(niho_apn)\n",
    "    print('n=' + str(2 * t + 1) + ', t=' + str(t) + \", d=\" + str(degree))"
   ]
  },
  {
   "cell_type": "code",
   "execution_count": 18,
   "metadata": {
    "collapsed": true
   },
   "outputs": [],
   "source": [
    "def getInversionApn(t):\n",
    "    n = 2 * t + 1\n",
    "    power = 2 ** (2 * t) - 1\n",
    "    F = ffield.FField(n)\n",
    "    res_transform = []\n",
    "    for i in range(2**n):\n",
    "        res_transform.append(powF(i, power, F))\n",
    "    return res_transform  "
   ]
  },
  {
   "cell_type": "code",
   "execution_count": 19,
   "metadata": {},
   "outputs": [
    {
     "name": "stdout",
     "output_type": "stream",
     "text": [
      "Inversion apn\n",
      "n=3, t=1, d=2\n",
      "n=5, t=2, d=4\n",
      "n=7, t=3, d=6\n",
      "n=9, t=4, d=8\n",
      "n=11, t=5, d=10\n",
      "n=13, t=6, d=12\n"
     ]
    }
   ],
   "source": [
    "print(\"Inversion apn\")\n",
    "for t in range(1, 7):\n",
    "    inversion_apn = getInversionApn(t)\n",
    "    degree = calculate_degree_of_transform(inversion_apn)\n",
    "    print('n=' + str(2 * t + 1) + ', t=' + str(t) + \", d=\" + str(degree))"
   ]
  },
  {
   "cell_type": "code",
   "execution_count": 20,
   "metadata": {
    "collapsed": true
   },
   "outputs": [],
   "source": [
    "def getDobbertinApn(i):\n",
    "    n = 5 * i\n",
    "    power = 2 ** (4 * i) + 2 ** (3 * i) + 2 ** (2 * i) + 2 ** i - 1\n",
    "    F = ffield.FField(n)\n",
    "    res_transform = []\n",
    "    for i in range(2**n):\n",
    "        res_transform.append(powF(i, power, F))\n",
    "    return res_transform  "
   ]
  },
  {
   "cell_type": "code",
   "execution_count": 23,
   "metadata": {},
   "outputs": [
    {
     "name": "stdout",
     "output_type": "stream",
     "text": [
      "Dobbertin apn\n",
      "n=5, t=1, d=4\n",
      "n=10, t=2, d=5\n"
     ]
    }
   ],
   "source": [
    "print(\"Dobbertin apn\")\n",
    "for i in range(1, 3):\n",
    "    dobbertin_apn = getDobbertinApn(i)\n",
    "    degree = calculate_degree_of_transform(dobbertin_apn)\n",
    "    print('n=' + str(5 * i) + ', t=' + str(i) + \", d=\" + str(degree))"
   ]
  },
  {
   "cell_type": "code",
   "execution_count": 14,
   "metadata": {
    "collapsed": true
   },
   "outputs": [],
   "source": [
    "def trace(elem, power_of_power, n, field):\n",
    "    res = elem\n",
    "    #powF(elem, power, field)\n",
    "    for i in range(1, n):\n",
    "        res ^= powF(elem, 2 ** (power_of_power * i), field)\n",
    "    return res\n",
    "    "
   ]
  },
  {
   "cell_type": "code",
   "execution_count": 21,
   "metadata": {},
   "outputs": [
    {
     "name": "stdout",
     "output_type": "stream",
     "text": [
      "52\n"
     ]
    }
   ],
   "source": [
    "F = ffield.FField(6)\n",
    "print(trace(12, 3, 6, F))"
   ]
  },
  {
   "cell_type": "code",
   "execution_count": 32,
   "metadata": {
    "collapsed": true
   },
   "outputs": [],
   "source": [
    "def first_ccz_eq_to_power_f(n, i):\n",
    "    if math.gcd(n,i) != 1:\n",
    "        raise Exception('gcd(n,i) must be 1')\n",
    "    if n % 2 != 0:\n",
    "        raise Exception('n must be even')\n",
    "    if n < 4:\n",
    "        raise Exception('n is less than 4')\n",
    "    F = ffield.FField(n)\n",
    "    res_transform = []\n",
    "    for x in range(2**n):\n",
    "        x_power_2i_1 = powF(x, 2 ** i + 1, F)\n",
    "        trace_part = trace(x_power_2i_1, 1, n, F)\n",
    "        r = x_power_2i_1 ^ mult((powF(x, 2 ** i, F) ^ x ^ 1), trace_part, F)\n",
    "        res_transform.append(r)\n",
    "    return res_transform\n",
    "    "
   ]
  },
  {
   "cell_type": "code",
   "execution_count": 33,
   "metadata": {},
   "outputs": [
    {
     "data": {
      "text/plain": [
       "[0, 1, 15, 8, 10, 12, 1, 1, 15, 10, 12, 15, 10, 8, 12, 8]"
      ]
     },
     "execution_count": 33,
     "metadata": {},
     "output_type": "execute_result"
    }
   ],
   "source": [
    "first_ccz_eq_to_power_f(4, 1)"
   ]
  },
  {
   "cell_type": "code",
   "execution_count": 49,
   "metadata": {},
   "outputs": [
    {
     "name": "stdout",
     "output_type": "stream",
     "text": [
      "first_ccz_eq_to_power_f\n",
      "n=4, i=1, d=3\n",
      "n=4, i=3, d=3\n",
      "n=6, i=1, d=3\n",
      "n=6, i=5, d=3\n",
      "n=8, i=1, d=3\n",
      "n=8, i=3, d=3\n",
      "n=8, i=5, d=3\n",
      "n=8, i=7, d=3\n",
      "n=10, i=1, d=3\n",
      "n=10, i=3, d=3\n",
      "n=10, i=7, d=3\n",
      "n=10, i=9, d=3\n",
      "n=12, i=1, d=3\n",
      "n=12, i=5, d=3\n",
      "n=12, i=7, d=3\n",
      "n=12, i=11, d=3\n"
     ]
    }
   ],
   "source": [
    "print(\"first_ccz_eq_to_power_f\")\n",
    "for n in range(4, 14, 2):\n",
    "    powers = get_i_list_gcd_n_1(n)\n",
    "    for i in powers:\n",
    "        first_ccz = first_ccz_eq_to_power_f(n, i)\n",
    "        degree = calculate_degree_of_transform(first_ccz)\n",
    "        print('n=' + str(n) + ', i=' + str(i) + \", d=\" + str(degree))"
   ]
  },
  {
   "cell_type": "code",
   "execution_count": 16,
   "metadata": {
    "collapsed": true
   },
   "outputs": [],
   "source": [
    "def second_ccz_eq_to_power_f(n, i):\n",
    "    #trace(elem, power_of_power, n, field)\n",
    "    if math.gcd(n,i) != 1:\n",
    "        raise Exception('gcd(n,i) must be 1')\n",
    "    if n % 2 != 0:\n",
    "        raise Exception('n must be even')\n",
    "    if n % 3 != 0:\n",
    "        raise Exception('n % 3 != 0')\n",
    "    F = ffield.FField(n)\n",
    "    res_transform = []\n",
    "    for x in range(2**n):\n",
    "        for_tr_1 = powF(x, 2 * (2 ** i + 1), F) ^ powF(x, (4 * (2 ** i + 1)) % (2 ** n - 1), F)\n",
    "        first_part = x ^ trace(for_tr_1, 3, n, F)\n",
    "        for_tr_2 = powF(x, 2 ** i + 1, F) ^ powF(x, ((2 ** (2 * i)) * (2 ** i + 1)) % (2 ** n - 1), F)\n",
    "        second_part = mult(trace(x, 1, n, F), trace(for_tr_2, 3, n, F), F)\n",
    "        r = powF(first_part ^ second_part, 2 ** i + 1, F)\n",
    "        res_transform.append(r)\n",
    "    return res_transform\n"
   ]
  },
  {
   "cell_type": "code",
   "execution_count": 17,
   "metadata": {},
   "outputs": [
    {
     "name": "stdout",
     "output_type": "stream",
     "text": [
      "second_ccz_eq_to_power_f\n",
      "n=6, i=1, d=4\n",
      "n=6, i=5, d=4\n"
     ]
    },
    {
     "ename": "KeyboardInterrupt",
     "evalue": "",
     "output_type": "error",
     "traceback": [
      "\u001b[0;31m---------------------------------------------------------------------------\u001b[0m",
      "\u001b[0;31mKeyboardInterrupt\u001b[0m                         Traceback (most recent call last)",
      "\u001b[0;32m<ipython-input-17-73a23a15ffd4>\u001b[0m in \u001b[0;36m<module>\u001b[0;34m()\u001b[0m\n\u001b[1;32m      4\u001b[0m     \u001b[0mpowers\u001b[0m \u001b[0;34m=\u001b[0m \u001b[0mget_i_list_gcd_n_1\u001b[0m\u001b[0;34m(\u001b[0m\u001b[0mn\u001b[0m\u001b[0;34m)\u001b[0m\u001b[0;34m\u001b[0m\u001b[0m\n\u001b[1;32m      5\u001b[0m     \u001b[0;32mfor\u001b[0m \u001b[0mi\u001b[0m \u001b[0;32min\u001b[0m \u001b[0mpowers\u001b[0m\u001b[0;34m:\u001b[0m\u001b[0;34m\u001b[0m\u001b[0m\n\u001b[0;32m----> 6\u001b[0;31m         \u001b[0msecond_ccz\u001b[0m \u001b[0;34m=\u001b[0m \u001b[0msecond_ccz_eq_to_power_f\u001b[0m\u001b[0;34m(\u001b[0m\u001b[0mn\u001b[0m\u001b[0;34m,\u001b[0m \u001b[0mi\u001b[0m\u001b[0;34m)\u001b[0m\u001b[0;34m\u001b[0m\u001b[0m\n\u001b[0m\u001b[1;32m      7\u001b[0m         \u001b[0mdegree\u001b[0m \u001b[0;34m=\u001b[0m \u001b[0mcalculate_degree_of_transform\u001b[0m\u001b[0;34m(\u001b[0m\u001b[0msecond_ccz\u001b[0m\u001b[0;34m)\u001b[0m\u001b[0;34m\u001b[0m\u001b[0m\n\u001b[1;32m      8\u001b[0m         \u001b[0mprint\u001b[0m\u001b[0;34m(\u001b[0m\u001b[0;34m'n='\u001b[0m \u001b[0;34m+\u001b[0m \u001b[0mstr\u001b[0m\u001b[0;34m(\u001b[0m\u001b[0mn\u001b[0m\u001b[0;34m)\u001b[0m \u001b[0;34m+\u001b[0m \u001b[0;34m', i='\u001b[0m \u001b[0;34m+\u001b[0m \u001b[0mstr\u001b[0m\u001b[0;34m(\u001b[0m\u001b[0mi\u001b[0m\u001b[0;34m)\u001b[0m \u001b[0;34m+\u001b[0m \u001b[0;34m\", d=\"\u001b[0m \u001b[0;34m+\u001b[0m \u001b[0mstr\u001b[0m\u001b[0;34m(\u001b[0m\u001b[0mdegree\u001b[0m\u001b[0;34m)\u001b[0m\u001b[0;34m)\u001b[0m\u001b[0;34m\u001b[0m\u001b[0m\n",
      "\u001b[0;32m<ipython-input-16-4add305359b8>\u001b[0m in \u001b[0;36msecond_ccz_eq_to_power_f\u001b[0;34m(n, i)\u001b[0m\n\u001b[1;32m     11\u001b[0m     \u001b[0;32mfor\u001b[0m \u001b[0mx\u001b[0m \u001b[0;32min\u001b[0m \u001b[0mrange\u001b[0m\u001b[0;34m(\u001b[0m\u001b[0;36m2\u001b[0m\u001b[0;34m**\u001b[0m\u001b[0mn\u001b[0m\u001b[0;34m)\u001b[0m\u001b[0;34m:\u001b[0m\u001b[0;34m\u001b[0m\u001b[0m\n\u001b[1;32m     12\u001b[0m         \u001b[0mfor_tr_1\u001b[0m \u001b[0;34m=\u001b[0m \u001b[0mpowF\u001b[0m\u001b[0;34m(\u001b[0m\u001b[0mx\u001b[0m\u001b[0;34m,\u001b[0m \u001b[0;36m2\u001b[0m \u001b[0;34m*\u001b[0m \u001b[0;34m(\u001b[0m\u001b[0;36m2\u001b[0m \u001b[0;34m**\u001b[0m \u001b[0mi\u001b[0m \u001b[0;34m+\u001b[0m \u001b[0;36m1\u001b[0m\u001b[0;34m)\u001b[0m\u001b[0;34m,\u001b[0m \u001b[0mF\u001b[0m\u001b[0;34m)\u001b[0m \u001b[0;34m^\u001b[0m \u001b[0mpowF\u001b[0m\u001b[0;34m(\u001b[0m\u001b[0mx\u001b[0m\u001b[0;34m,\u001b[0m \u001b[0;34m(\u001b[0m\u001b[0;36m4\u001b[0m \u001b[0;34m*\u001b[0m \u001b[0;34m(\u001b[0m\u001b[0;36m2\u001b[0m \u001b[0;34m**\u001b[0m \u001b[0mi\u001b[0m \u001b[0;34m+\u001b[0m \u001b[0;36m1\u001b[0m\u001b[0;34m)\u001b[0m\u001b[0;34m)\u001b[0m \u001b[0;34m%\u001b[0m \u001b[0;34m(\u001b[0m\u001b[0;36m2\u001b[0m \u001b[0;34m**\u001b[0m \u001b[0mn\u001b[0m \u001b[0;34m-\u001b[0m \u001b[0;36m1\u001b[0m\u001b[0;34m)\u001b[0m\u001b[0;34m,\u001b[0m \u001b[0mF\u001b[0m\u001b[0;34m)\u001b[0m\u001b[0;34m\u001b[0m\u001b[0m\n\u001b[0;32m---> 13\u001b[0;31m         \u001b[0mfirst_part\u001b[0m \u001b[0;34m=\u001b[0m \u001b[0mx\u001b[0m \u001b[0;34m^\u001b[0m \u001b[0mtrace\u001b[0m\u001b[0;34m(\u001b[0m\u001b[0mfor_tr_1\u001b[0m\u001b[0;34m,\u001b[0m \u001b[0;36m3\u001b[0m\u001b[0;34m,\u001b[0m \u001b[0mn\u001b[0m\u001b[0;34m,\u001b[0m \u001b[0mF\u001b[0m\u001b[0;34m)\u001b[0m\u001b[0;34m\u001b[0m\u001b[0m\n\u001b[0m\u001b[1;32m     14\u001b[0m         \u001b[0mfor_tr_2\u001b[0m \u001b[0;34m=\u001b[0m \u001b[0mpowF\u001b[0m\u001b[0;34m(\u001b[0m\u001b[0mx\u001b[0m\u001b[0;34m,\u001b[0m \u001b[0;36m2\u001b[0m \u001b[0;34m**\u001b[0m \u001b[0mi\u001b[0m \u001b[0;34m+\u001b[0m \u001b[0;36m1\u001b[0m\u001b[0;34m,\u001b[0m \u001b[0mF\u001b[0m\u001b[0;34m)\u001b[0m \u001b[0;34m^\u001b[0m \u001b[0mpowF\u001b[0m\u001b[0;34m(\u001b[0m\u001b[0mx\u001b[0m\u001b[0;34m,\u001b[0m \u001b[0;34m(\u001b[0m\u001b[0;34m(\u001b[0m\u001b[0;36m2\u001b[0m \u001b[0;34m**\u001b[0m \u001b[0;34m(\u001b[0m\u001b[0;36m2\u001b[0m \u001b[0;34m*\u001b[0m \u001b[0mi\u001b[0m\u001b[0;34m)\u001b[0m\u001b[0;34m)\u001b[0m \u001b[0;34m*\u001b[0m \u001b[0;34m(\u001b[0m\u001b[0;36m2\u001b[0m \u001b[0;34m**\u001b[0m \u001b[0mi\u001b[0m \u001b[0;34m+\u001b[0m \u001b[0;36m1\u001b[0m\u001b[0;34m)\u001b[0m\u001b[0;34m)\u001b[0m \u001b[0;34m%\u001b[0m \u001b[0;34m(\u001b[0m\u001b[0;36m2\u001b[0m \u001b[0;34m**\u001b[0m \u001b[0mn\u001b[0m \u001b[0;34m-\u001b[0m \u001b[0;36m1\u001b[0m\u001b[0;34m)\u001b[0m\u001b[0;34m,\u001b[0m \u001b[0mF\u001b[0m\u001b[0;34m)\u001b[0m\u001b[0;34m\u001b[0m\u001b[0m\n\u001b[1;32m     15\u001b[0m         \u001b[0msecond_part\u001b[0m \u001b[0;34m=\u001b[0m \u001b[0mmult\u001b[0m\u001b[0;34m(\u001b[0m\u001b[0mtrace\u001b[0m\u001b[0;34m(\u001b[0m\u001b[0mx\u001b[0m\u001b[0;34m,\u001b[0m \u001b[0;36m1\u001b[0m\u001b[0;34m,\u001b[0m \u001b[0mn\u001b[0m\u001b[0;34m,\u001b[0m \u001b[0mF\u001b[0m\u001b[0;34m)\u001b[0m\u001b[0;34m,\u001b[0m \u001b[0mtrace\u001b[0m\u001b[0;34m(\u001b[0m\u001b[0mfor_tr_2\u001b[0m\u001b[0;34m,\u001b[0m \u001b[0;36m3\u001b[0m\u001b[0;34m,\u001b[0m \u001b[0mn\u001b[0m\u001b[0;34m,\u001b[0m \u001b[0mF\u001b[0m\u001b[0;34m)\u001b[0m\u001b[0;34m,\u001b[0m \u001b[0mF\u001b[0m\u001b[0;34m)\u001b[0m\u001b[0;34m\u001b[0m\u001b[0m\n",
      "\u001b[0;32m<ipython-input-14-3b7980bd4766>\u001b[0m in \u001b[0;36mtrace\u001b[0;34m(elem, power_of_power, n, field)\u001b[0m\n\u001b[1;32m      3\u001b[0m     \u001b[0;31m#powF(elem, power, field)\u001b[0m\u001b[0;34m\u001b[0m\u001b[0;34m\u001b[0m\u001b[0m\n\u001b[1;32m      4\u001b[0m     \u001b[0;32mfor\u001b[0m \u001b[0mi\u001b[0m \u001b[0;32min\u001b[0m \u001b[0mrange\u001b[0m\u001b[0;34m(\u001b[0m\u001b[0;36m1\u001b[0m\u001b[0;34m,\u001b[0m \u001b[0mn\u001b[0m\u001b[0;34m)\u001b[0m\u001b[0;34m:\u001b[0m\u001b[0;34m\u001b[0m\u001b[0m\n\u001b[0;32m----> 5\u001b[0;31m         \u001b[0mres\u001b[0m \u001b[0;34m^=\u001b[0m \u001b[0mpowF\u001b[0m\u001b[0;34m(\u001b[0m\u001b[0melem\u001b[0m\u001b[0;34m,\u001b[0m \u001b[0;36m2\u001b[0m \u001b[0;34m**\u001b[0m \u001b[0;34m(\u001b[0m\u001b[0mpower_of_power\u001b[0m \u001b[0;34m*\u001b[0m \u001b[0mi\u001b[0m\u001b[0;34m)\u001b[0m\u001b[0;34m,\u001b[0m \u001b[0mfield\u001b[0m\u001b[0;34m)\u001b[0m\u001b[0;34m\u001b[0m\u001b[0m\n\u001b[0m\u001b[1;32m      6\u001b[0m     \u001b[0;32mreturn\u001b[0m \u001b[0mres\u001b[0m\u001b[0;34m\u001b[0m\u001b[0m\n\u001b[1;32m      7\u001b[0m \u001b[0;34m\u001b[0m\u001b[0m\n",
      "\u001b[0;32m<ipython-input-10-3416de9b3863>\u001b[0m in \u001b[0;36mpowF\u001b[0;34m(elem, power, field)\u001b[0m\n\u001b[1;32m      4\u001b[0m     \u001b[0mres\u001b[0m \u001b[0;34m=\u001b[0m \u001b[0melem\u001b[0m\u001b[0;34m\u001b[0m\u001b[0m\n\u001b[1;32m      5\u001b[0m     \u001b[0;32mfor\u001b[0m \u001b[0mi\u001b[0m \u001b[0;32min\u001b[0m \u001b[0mrange\u001b[0m\u001b[0;34m(\u001b[0m\u001b[0mpower\u001b[0m \u001b[0;34m-\u001b[0m \u001b[0;36m1\u001b[0m\u001b[0;34m)\u001b[0m\u001b[0;34m:\u001b[0m\u001b[0;34m\u001b[0m\u001b[0m\n\u001b[0;32m----> 6\u001b[0;31m         \u001b[0mres\u001b[0m \u001b[0;34m=\u001b[0m \u001b[0mmult\u001b[0m\u001b[0;34m(\u001b[0m\u001b[0mres\u001b[0m\u001b[0;34m,\u001b[0m \u001b[0melem\u001b[0m\u001b[0;34m,\u001b[0m \u001b[0mfield\u001b[0m\u001b[0;34m)\u001b[0m\u001b[0;34m\u001b[0m\u001b[0m\n\u001b[0m\u001b[1;32m      7\u001b[0m     \u001b[0;32mreturn\u001b[0m \u001b[0mres\u001b[0m\u001b[0;34m\u001b[0m\u001b[0m\n\u001b[1;32m      8\u001b[0m \u001b[0;34m\u001b[0m\u001b[0m\n",
      "\u001b[0;32m<ipython-input-9-14a4827be95b>\u001b[0m in \u001b[0;36mmult\u001b[0;34m(elem1, elem2, field)\u001b[0m\n\u001b[1;32m      1\u001b[0m \u001b[0;32mdef\u001b[0m \u001b[0mmult\u001b[0m\u001b[0;34m(\u001b[0m\u001b[0melem1\u001b[0m\u001b[0;34m,\u001b[0m \u001b[0melem2\u001b[0m\u001b[0;34m,\u001b[0m \u001b[0mfield\u001b[0m\u001b[0;34m)\u001b[0m\u001b[0;34m:\u001b[0m\u001b[0;34m\u001b[0m\u001b[0m\n\u001b[0;32m----> 2\u001b[0;31m     \u001b[0;32mreturn\u001b[0m \u001b[0mfield\u001b[0m\u001b[0;34m.\u001b[0m\u001b[0mMultiply\u001b[0m\u001b[0;34m(\u001b[0m\u001b[0melem1\u001b[0m\u001b[0;34m,\u001b[0m \u001b[0melem2\u001b[0m\u001b[0;34m)\u001b[0m\u001b[0;34m\u001b[0m\u001b[0m\n\u001b[0m",
      "\u001b[0;32m~/anaconda3/lib/python3.6/site-packages/pyfinite/ffield.py\u001b[0m in \u001b[0;36mDoMultiply\u001b[0;34m(self, f, v)\u001b[0m\n\u001b[1;32m    248\u001b[0m         \u001b[0mmodulo\u001b[0m \u001b[0mself\u001b[0m\u001b[0;34m.\u001b[0m\u001b[0mgenerator\u001b[0m\u001b[0;34m.\u001b[0m\u001b[0;34m\u001b[0m\u001b[0m\n\u001b[1;32m    249\u001b[0m         \"\"\"\n\u001b[0;32m--> 250\u001b[0;31m         \u001b[0mm\u001b[0m \u001b[0;34m=\u001b[0m \u001b[0mself\u001b[0m\u001b[0;34m.\u001b[0m\u001b[0mMultiplyWithoutReducing\u001b[0m\u001b[0;34m(\u001b[0m\u001b[0mf\u001b[0m\u001b[0;34m,\u001b[0m\u001b[0mv\u001b[0m\u001b[0;34m)\u001b[0m\u001b[0;34m\u001b[0m\u001b[0m\n\u001b[0m\u001b[1;32m    251\u001b[0m         return self.FullDivision(m,self.generator,\n\u001b[1;32m    252\u001b[0m                                  self.FindDegree(m),self.n)[1]\n",
      "\u001b[0;32m~/anaconda3/lib/python3.6/site-packages/pyfinite/ffield.py\u001b[0m in \u001b[0;36mMultiplyWithoutReducing\u001b[0;34m(self, f, v)\u001b[0m\n\u001b[1;32m    303\u001b[0m \u001b[0;34m\u001b[0m\u001b[0m\n\u001b[1;32m    304\u001b[0m         \u001b[0mresult\u001b[0m \u001b[0;34m=\u001b[0m \u001b[0;36m0\u001b[0m\u001b[0;34m\u001b[0m\u001b[0m\n\u001b[0;32m--> 305\u001b[0;31m         \u001b[0mmask\u001b[0m \u001b[0;34m=\u001b[0m \u001b[0mself\u001b[0m\u001b[0;34m.\u001b[0m\u001b[0munity\u001b[0m\u001b[0;34m\u001b[0m\u001b[0m\n\u001b[0m\u001b[1;32m    306\u001b[0m         \u001b[0mi\u001b[0m \u001b[0;34m=\u001b[0m \u001b[0;36m0\u001b[0m\u001b[0;34m\u001b[0m\u001b[0m\n\u001b[1;32m    307\u001b[0m         \u001b[0;32mwhile\u001b[0m \u001b[0;34m(\u001b[0m\u001b[0mi\u001b[0m \u001b[0;34m<=\u001b[0m \u001b[0mself\u001b[0m\u001b[0;34m.\u001b[0m\u001b[0mn\u001b[0m\u001b[0;34m)\u001b[0m\u001b[0;34m:\u001b[0m\u001b[0;34m\u001b[0m\u001b[0m\n",
      "\u001b[0;31mKeyboardInterrupt\u001b[0m: "
     ]
    }
   ],
   "source": [
    "print(\"second_ccz_eq_to_power_f\")\n",
    "for k in range(2, 14, 2):\n",
    "    n = 3 * k\n",
    "    powers = get_i_list_gcd_n_1(n)\n",
    "    for i in powers:\n",
    "        second_ccz = second_ccz_eq_to_power_f(n, i)\n",
    "        degree = calculate_degree_of_transform(second_ccz)\n",
    "        print('n=' + str(n) + ', i=' + str(i) + \", d=\" + str(degree))"
   ]
  },
  {
   "cell_type": "code",
   "execution_count": 22,
   "metadata": {
    "collapsed": true
   },
   "outputs": [],
   "source": [
    "def ordF(elem, F):\n",
    "    if elem == 0:\n",
    "        raise Exception('elem is zero')\n",
    "    resOrd = 1\n",
    "    g = elem\n",
    "    while g != 1:\n",
    "        g = mult(g, elem, F)\n",
    "        resOrd += 1\n",
    "    return resOrd"
   ]
  },
  {
   "cell_type": "code",
   "execution_count": 23,
   "metadata": {},
   "outputs": [
    {
     "name": "stdout",
     "output_type": "stream",
     "text": [
      "1\n"
     ]
    }
   ],
   "source": [
    "F = ffield.FField(6)\n",
    "print(ordF(1, F))"
   ]
  },
  {
   "cell_type": "code",
   "execution_count": 36,
   "metadata": {
    "collapsed": true
   },
   "outputs": [],
   "source": [
    "def first_not_ccz_eq(k, s, w):\n",
    "    if k < 4:\n",
    "        raise Exception('k is less then 4')\n",
    "    if math.gcd(k, 3) != 1:\n",
    "        raise Exception('gcd(k,3) != 1')\n",
    "    if math.gcd(s,3 * k) != 1:\n",
    "        raise Exception('gcd(s,3 * k) != 1')\n",
    "    n = 3 * k\n",
    "    i = (s * k) % 3\n",
    "    m = 3 * i\n",
    "    F = ffield.FField(n)\n",
    "    res_transform = []\n",
    "    for x in range(2 ** n):\n",
    "        r = powF(x, (2 ** s + 1) % (2 ** n - 1), F) ^ mult(w, powF(x, (2 ** (i * k) + 2 ** (m * k + s)) % (2 ** n - 1),F), F)\n",
    "        res_transform.append(r)\n",
    "    return res_transform"
   ]
  },
  {
   "cell_type": "code",
   "execution_count": 41,
   "metadata": {
    "collapsed": true
   },
   "outputs": [],
   "source": [
    "def generate_w_with_order(n, order, limit = ''):\n",
    "    res_w = []\n",
    "    F = ffield.FField(n)\n",
    "    cnt = 0\n",
    "    for x in range(1, 2 ** n):\n",
    "        if ordF(x,F) == order:\n",
    "            res_w.append(x)\n",
    "            if limit != '':\n",
    "                cnt += 1\n",
    "                if limit == cnt:\n",
    "                    break\n",
    "    return res_w"
   ]
  },
  {
   "cell_type": "code",
   "execution_count": 42,
   "metadata": {},
   "outputs": [
    {
     "name": "stdout",
     "output_type": "stream",
     "text": [
      "first_not_ccz_eq\n",
      "ws generated!\n",
      "n=12, s=1 w=31, d=2\n",
      "n=12, s=1 w=107, d=2\n",
      "n=12, s=1 w=134, d=2\n",
      "n=12, s=1 w=139, d=2\n",
      "n=12, s=1 w=161, d=2\n",
      "n=12, s=1 w=176, d=2\n",
      "n=12, s=1 w=200, d=2\n",
      "n=12, s=1 w=201, d=2\n",
      "n=12, s=5 w=31, d=2\n",
      "n=12, s=5 w=107, d=2\n",
      "n=12, s=5 w=134, d=2\n",
      "n=12, s=5 w=139, d=2\n",
      "n=12, s=5 w=161, d=2\n",
      "n=12, s=5 w=176, d=2\n",
      "n=12, s=5 w=200, d=2\n",
      "n=12, s=5 w=201, d=2\n",
      "n=12, s=7 w=31, d=2\n",
      "n=12, s=7 w=107, d=2\n",
      "n=12, s=7 w=134, d=2\n",
      "n=12, s=7 w=139, d=2\n",
      "n=12, s=7 w=161, d=2\n",
      "n=12, s=7 w=176, d=2\n",
      "n=12, s=7 w=200, d=2\n",
      "n=12, s=7 w=201, d=2\n",
      "n=12, s=11 w=31, d=2\n",
      "n=12, s=11 w=107, d=2\n",
      "n=12, s=11 w=134, d=2\n"
     ]
    },
    {
     "ename": "KeyboardInterrupt",
     "evalue": "",
     "output_type": "error",
     "traceback": [
      "\u001b[0;31m---------------------------------------------------------------------------\u001b[0m",
      "\u001b[0;31mKeyboardInterrupt\u001b[0m                         Traceback (most recent call last)",
      "\u001b[0;32m<ipython-input-42-0ff6a749fce9>\u001b[0m in \u001b[0;36m<module>\u001b[0;34m()\u001b[0m\n\u001b[1;32m      7\u001b[0m             \u001b[0;32mif\u001b[0m \u001b[0mmath\u001b[0m\u001b[0;34m.\u001b[0m\u001b[0mgcd\u001b[0m\u001b[0;34m(\u001b[0m\u001b[0ms\u001b[0m\u001b[0;34m,\u001b[0m \u001b[0;36m3\u001b[0m \u001b[0;34m*\u001b[0m \u001b[0mk\u001b[0m\u001b[0;34m)\u001b[0m \u001b[0;34m==\u001b[0m \u001b[0;36m1\u001b[0m\u001b[0;34m:\u001b[0m\u001b[0;34m\u001b[0m\u001b[0m\n\u001b[1;32m      8\u001b[0m                 \u001b[0;32mfor\u001b[0m \u001b[0mw\u001b[0m \u001b[0;32min\u001b[0m \u001b[0mws\u001b[0m\u001b[0;34m:\u001b[0m\u001b[0;34m\u001b[0m\u001b[0m\n\u001b[0;32m----> 9\u001b[0;31m                     \u001b[0mfirst_unccz\u001b[0m \u001b[0;34m=\u001b[0m \u001b[0mfirst_not_ccz_eq\u001b[0m\u001b[0;34m(\u001b[0m\u001b[0mk\u001b[0m\u001b[0;34m,\u001b[0m \u001b[0ms\u001b[0m\u001b[0;34m,\u001b[0m \u001b[0mw\u001b[0m\u001b[0;34m)\u001b[0m\u001b[0;34m\u001b[0m\u001b[0m\n\u001b[0m\u001b[1;32m     10\u001b[0m                     \u001b[0mdegree\u001b[0m \u001b[0;34m=\u001b[0m \u001b[0mcalculate_degree_of_transform\u001b[0m\u001b[0;34m(\u001b[0m\u001b[0mfirst_unccz\u001b[0m\u001b[0;34m)\u001b[0m\u001b[0;34m\u001b[0m\u001b[0m\n\u001b[1;32m     11\u001b[0m                     \u001b[0mprint\u001b[0m\u001b[0;34m(\u001b[0m\u001b[0;34m'n='\u001b[0m \u001b[0;34m+\u001b[0m \u001b[0mstr\u001b[0m\u001b[0;34m(\u001b[0m\u001b[0;36m3\u001b[0m \u001b[0;34m*\u001b[0m \u001b[0mk\u001b[0m\u001b[0;34m)\u001b[0m \u001b[0;34m+\u001b[0m \u001b[0;34m', s='\u001b[0m \u001b[0;34m+\u001b[0m \u001b[0mstr\u001b[0m\u001b[0;34m(\u001b[0m\u001b[0ms\u001b[0m\u001b[0;34m)\u001b[0m \u001b[0;34m+\u001b[0m \u001b[0;34m\" w=\"\u001b[0m \u001b[0;34m+\u001b[0m \u001b[0mstr\u001b[0m\u001b[0;34m(\u001b[0m\u001b[0mw\u001b[0m\u001b[0;34m)\u001b[0m \u001b[0;34m+\u001b[0m\u001b[0;34m\", d=\"\u001b[0m \u001b[0;34m+\u001b[0m \u001b[0mstr\u001b[0m\u001b[0;34m(\u001b[0m\u001b[0mdegree\u001b[0m\u001b[0;34m)\u001b[0m\u001b[0;34m)\u001b[0m\u001b[0;34m\u001b[0m\u001b[0m\n",
      "\u001b[0;32m<ipython-input-36-f4467725aaa3>\u001b[0m in \u001b[0;36mfirst_not_ccz_eq\u001b[0;34m(k, s, w)\u001b[0m\n\u001b[1;32m     12\u001b[0m     \u001b[0mres_transform\u001b[0m \u001b[0;34m=\u001b[0m \u001b[0;34m[\u001b[0m\u001b[0;34m]\u001b[0m\u001b[0;34m\u001b[0m\u001b[0m\n\u001b[1;32m     13\u001b[0m     \u001b[0;32mfor\u001b[0m \u001b[0mx\u001b[0m \u001b[0;32min\u001b[0m \u001b[0mrange\u001b[0m\u001b[0;34m(\u001b[0m\u001b[0;36m2\u001b[0m \u001b[0;34m**\u001b[0m \u001b[0mn\u001b[0m\u001b[0;34m)\u001b[0m\u001b[0;34m:\u001b[0m\u001b[0;34m\u001b[0m\u001b[0m\n\u001b[0;32m---> 14\u001b[0;31m         \u001b[0mr\u001b[0m \u001b[0;34m=\u001b[0m \u001b[0mpowF\u001b[0m\u001b[0;34m(\u001b[0m\u001b[0mx\u001b[0m\u001b[0;34m,\u001b[0m \u001b[0;34m(\u001b[0m\u001b[0;36m2\u001b[0m \u001b[0;34m**\u001b[0m \u001b[0ms\u001b[0m \u001b[0;34m+\u001b[0m \u001b[0;36m1\u001b[0m\u001b[0;34m)\u001b[0m \u001b[0;34m%\u001b[0m \u001b[0;34m(\u001b[0m\u001b[0;36m2\u001b[0m \u001b[0;34m**\u001b[0m \u001b[0mn\u001b[0m \u001b[0;34m-\u001b[0m \u001b[0;36m1\u001b[0m\u001b[0;34m)\u001b[0m\u001b[0;34m,\u001b[0m \u001b[0mF\u001b[0m\u001b[0;34m)\u001b[0m \u001b[0;34m^\u001b[0m \u001b[0mmult\u001b[0m\u001b[0;34m(\u001b[0m\u001b[0mw\u001b[0m\u001b[0;34m,\u001b[0m \u001b[0mpowF\u001b[0m\u001b[0;34m(\u001b[0m\u001b[0mx\u001b[0m\u001b[0;34m,\u001b[0m \u001b[0;34m(\u001b[0m\u001b[0;36m2\u001b[0m \u001b[0;34m**\u001b[0m \u001b[0;34m(\u001b[0m\u001b[0mi\u001b[0m \u001b[0;34m*\u001b[0m \u001b[0mk\u001b[0m\u001b[0;34m)\u001b[0m \u001b[0;34m+\u001b[0m \u001b[0;36m2\u001b[0m \u001b[0;34m**\u001b[0m \u001b[0;34m(\u001b[0m\u001b[0mm\u001b[0m \u001b[0;34m*\u001b[0m \u001b[0mk\u001b[0m \u001b[0;34m+\u001b[0m \u001b[0ms\u001b[0m\u001b[0;34m)\u001b[0m\u001b[0;34m)\u001b[0m \u001b[0;34m%\u001b[0m \u001b[0;34m(\u001b[0m\u001b[0;36m2\u001b[0m \u001b[0;34m**\u001b[0m \u001b[0mn\u001b[0m \u001b[0;34m-\u001b[0m \u001b[0;36m1\u001b[0m\u001b[0;34m)\u001b[0m\u001b[0;34m,\u001b[0m\u001b[0mF\u001b[0m\u001b[0;34m)\u001b[0m\u001b[0;34m,\u001b[0m \u001b[0mF\u001b[0m\u001b[0;34m)\u001b[0m\u001b[0;34m\u001b[0m\u001b[0m\n\u001b[0m\u001b[1;32m     15\u001b[0m         \u001b[0mres_transform\u001b[0m\u001b[0;34m.\u001b[0m\u001b[0mappend\u001b[0m\u001b[0;34m(\u001b[0m\u001b[0mr\u001b[0m\u001b[0;34m)\u001b[0m\u001b[0;34m\u001b[0m\u001b[0m\n\u001b[1;32m     16\u001b[0m     \u001b[0;32mreturn\u001b[0m \u001b[0mres_transform\u001b[0m\u001b[0;34m\u001b[0m\u001b[0m\n",
      "\u001b[0;32m<ipython-input-17-3416de9b3863>\u001b[0m in \u001b[0;36mpowF\u001b[0;34m(elem, power, field)\u001b[0m\n\u001b[1;32m      4\u001b[0m     \u001b[0mres\u001b[0m \u001b[0;34m=\u001b[0m \u001b[0melem\u001b[0m\u001b[0;34m\u001b[0m\u001b[0m\n\u001b[1;32m      5\u001b[0m     \u001b[0;32mfor\u001b[0m \u001b[0mi\u001b[0m \u001b[0;32min\u001b[0m \u001b[0mrange\u001b[0m\u001b[0;34m(\u001b[0m\u001b[0mpower\u001b[0m \u001b[0;34m-\u001b[0m \u001b[0;36m1\u001b[0m\u001b[0;34m)\u001b[0m\u001b[0;34m:\u001b[0m\u001b[0;34m\u001b[0m\u001b[0m\n\u001b[0;32m----> 6\u001b[0;31m         \u001b[0mres\u001b[0m \u001b[0;34m=\u001b[0m \u001b[0mmult\u001b[0m\u001b[0;34m(\u001b[0m\u001b[0mres\u001b[0m\u001b[0;34m,\u001b[0m \u001b[0melem\u001b[0m\u001b[0;34m,\u001b[0m \u001b[0mfield\u001b[0m\u001b[0;34m)\u001b[0m\u001b[0;34m\u001b[0m\u001b[0m\n\u001b[0m\u001b[1;32m      7\u001b[0m     \u001b[0;32mreturn\u001b[0m \u001b[0mres\u001b[0m\u001b[0;34m\u001b[0m\u001b[0m\n\u001b[1;32m      8\u001b[0m \u001b[0;34m\u001b[0m\u001b[0m\n",
      "\u001b[0;32m<ipython-input-16-14a4827be95b>\u001b[0m in \u001b[0;36mmult\u001b[0;34m(elem1, elem2, field)\u001b[0m\n\u001b[1;32m      1\u001b[0m \u001b[0;32mdef\u001b[0m \u001b[0mmult\u001b[0m\u001b[0;34m(\u001b[0m\u001b[0melem1\u001b[0m\u001b[0;34m,\u001b[0m \u001b[0melem2\u001b[0m\u001b[0;34m,\u001b[0m \u001b[0mfield\u001b[0m\u001b[0;34m)\u001b[0m\u001b[0;34m:\u001b[0m\u001b[0;34m\u001b[0m\u001b[0m\n\u001b[0;32m----> 2\u001b[0;31m     \u001b[0;32mreturn\u001b[0m \u001b[0mfield\u001b[0m\u001b[0;34m.\u001b[0m\u001b[0mMultiply\u001b[0m\u001b[0;34m(\u001b[0m\u001b[0melem1\u001b[0m\u001b[0;34m,\u001b[0m \u001b[0melem2\u001b[0m\u001b[0;34m)\u001b[0m\u001b[0;34m\u001b[0m\u001b[0m\n\u001b[0m",
      "\u001b[0;32m~/anaconda3/lib/python3.6/site-packages/pyfinite/ffield.py\u001b[0m in \u001b[0;36mDoMultiply\u001b[0;34m(self, f, v)\u001b[0m\n\u001b[1;32m    248\u001b[0m         \u001b[0mmodulo\u001b[0m \u001b[0mself\u001b[0m\u001b[0;34m.\u001b[0m\u001b[0mgenerator\u001b[0m\u001b[0;34m.\u001b[0m\u001b[0;34m\u001b[0m\u001b[0m\n\u001b[1;32m    249\u001b[0m         \"\"\"\n\u001b[0;32m--> 250\u001b[0;31m         \u001b[0mm\u001b[0m \u001b[0;34m=\u001b[0m \u001b[0mself\u001b[0m\u001b[0;34m.\u001b[0m\u001b[0mMultiplyWithoutReducing\u001b[0m\u001b[0;34m(\u001b[0m\u001b[0mf\u001b[0m\u001b[0;34m,\u001b[0m\u001b[0mv\u001b[0m\u001b[0;34m)\u001b[0m\u001b[0;34m\u001b[0m\u001b[0m\n\u001b[0m\u001b[1;32m    251\u001b[0m         return self.FullDivision(m,self.generator,\n\u001b[1;32m    252\u001b[0m                                  self.FindDegree(m),self.n)[1]\n",
      "\u001b[0;32m~/anaconda3/lib/python3.6/site-packages/pyfinite/ffield.py\u001b[0m in \u001b[0;36mMultiplyWithoutReducing\u001b[0;34m(self, f, v)\u001b[0m\n\u001b[1;32m    306\u001b[0m         \u001b[0mi\u001b[0m \u001b[0;34m=\u001b[0m \u001b[0;36m0\u001b[0m\u001b[0;34m\u001b[0m\u001b[0m\n\u001b[1;32m    307\u001b[0m         \u001b[0;32mwhile\u001b[0m \u001b[0;34m(\u001b[0m\u001b[0mi\u001b[0m \u001b[0;34m<=\u001b[0m \u001b[0mself\u001b[0m\u001b[0;34m.\u001b[0m\u001b[0mn\u001b[0m\u001b[0;34m)\u001b[0m\u001b[0;34m:\u001b[0m\u001b[0;34m\u001b[0m\u001b[0m\n\u001b[0;32m--> 308\u001b[0;31m             \u001b[0;32mif\u001b[0m \u001b[0;34m(\u001b[0m\u001b[0mmask\u001b[0m \u001b[0;34m&\u001b[0m \u001b[0mv\u001b[0m\u001b[0;34m)\u001b[0m\u001b[0;34m:\u001b[0m\u001b[0;34m\u001b[0m\u001b[0m\n\u001b[0m\u001b[1;32m    309\u001b[0m                 \u001b[0mresult\u001b[0m \u001b[0;34m=\u001b[0m \u001b[0mresult\u001b[0m \u001b[0;34m^\u001b[0m \u001b[0mf\u001b[0m\u001b[0;34m\u001b[0m\u001b[0m\n\u001b[1;32m    310\u001b[0m             \u001b[0mf\u001b[0m \u001b[0;34m=\u001b[0m \u001b[0mf\u001b[0m \u001b[0;34m<<\u001b[0m \u001b[0;36m1\u001b[0m\u001b[0;34m\u001b[0m\u001b[0m\n",
      "\u001b[0;31mKeyboardInterrupt\u001b[0m: "
     ]
    }
   ],
   "source": [
    "print(\"first_not_ccz_eq\")\n",
    "for k in range(4, 5):\n",
    "    if math.gcd(k, 3) == 1:\n",
    "        ws = generate_w_with_order(3 * k, 2 ** (2 * k) + 2 ** k + 1, 8)\n",
    "        print(\"ws generated!\")\n",
    "        for s in range(1, 3 * k):\n",
    "            if math.gcd(s, 3 * k) == 1:            \n",
    "                for w in ws:\n",
    "                    first_unccz = first_not_ccz_eq(k, s, w)\n",
    "                    degree = calculate_degree_of_transform(first_unccz)\n",
    "                    print('n=' + str(3 * k) + ', s=' + str(s) + \" w=\" + str(w) +\", d=\" + str(degree))"
   ]
  },
  {
   "cell_type": "code",
   "execution_count": 30,
   "metadata": {
    "collapsed": true
   },
   "outputs": [],
   "source": [
    "def second_not_ccz_eq(k, s, w):\n",
    "    if k < 3:\n",
    "        raise Exception('k is less then 3')\n",
    "    if math.gcd(k, 2) != 1:\n",
    "        raise Exception('gcd(k,2) != 1')\n",
    "    if math.gcd(s,2 * k) != 1:\n",
    "        raise Exception('gcd(s,2 * k) != 1')\n",
    "    n = 4 * k\n",
    "    i = (s * k) % 4\n",
    "    m = 4 * i\n",
    "    F = ffield.FField(n)\n",
    "    res_transform = []\n",
    "    for x in range(2 ** n):\n",
    "        r = powF(x, (2 ** s + 1) % (2 ** n - 1), F) ^ mult(w, powF(x, (2 ** (i * k) + 2 ** (m * k + s)) % (2 ** n - 1),F), F)\n",
    "        res_transform.append(r)\n",
    "    return res_transform\n"
   ]
  },
  {
   "cell_type": "code",
   "execution_count": 43,
   "metadata": {},
   "outputs": [
    {
     "name": "stdout",
     "output_type": "stream",
     "text": [
      "second_not_ccz_eq\n",
      "ws generated!\n",
      "n=12, s=1 w=10, d=2\n",
      "n=12, s=1 w=11, d=2\n",
      "n=12, s=1 w=63, d=2\n",
      "n=12, s=1 w=68, d=2\n",
      "n=12, s=1 w=69, d=2\n",
      "n=12, s=5 w=10, d=2\n",
      "n=12, s=5 w=11, d=2\n",
      "n=12, s=5 w=63, d=2\n",
      "n=12, s=5 w=68, d=2\n",
      "n=12, s=5 w=69, d=2\n",
      "ws generated!\n"
     ]
    },
    {
     "ename": "KeyboardInterrupt",
     "evalue": "",
     "output_type": "error",
     "traceback": [
      "\u001b[0;31m---------------------------------------------------------------------------\u001b[0m",
      "\u001b[0;31mKeyboardInterrupt\u001b[0m                         Traceback (most recent call last)",
      "\u001b[0;32m<ipython-input-43-b8cc6e8d8ad5>\u001b[0m in \u001b[0;36m<module>\u001b[0;34m()\u001b[0m\n\u001b[1;32m      7\u001b[0m             \u001b[0;32mif\u001b[0m \u001b[0mmath\u001b[0m\u001b[0;34m.\u001b[0m\u001b[0mgcd\u001b[0m\u001b[0;34m(\u001b[0m\u001b[0ms\u001b[0m\u001b[0;34m,\u001b[0m \u001b[0;36m2\u001b[0m \u001b[0;34m*\u001b[0m \u001b[0mk\u001b[0m\u001b[0;34m)\u001b[0m \u001b[0;34m==\u001b[0m \u001b[0;36m1\u001b[0m\u001b[0;34m:\u001b[0m\u001b[0;34m\u001b[0m\u001b[0m\n\u001b[1;32m      8\u001b[0m                 \u001b[0;32mfor\u001b[0m \u001b[0mw\u001b[0m \u001b[0;32min\u001b[0m \u001b[0mws\u001b[0m\u001b[0;34m:\u001b[0m\u001b[0;34m\u001b[0m\u001b[0m\n\u001b[0;32m----> 9\u001b[0;31m                     \u001b[0msecond_unccz\u001b[0m \u001b[0;34m=\u001b[0m \u001b[0msecond_not_ccz_eq\u001b[0m\u001b[0;34m(\u001b[0m\u001b[0mk\u001b[0m\u001b[0;34m,\u001b[0m \u001b[0ms\u001b[0m\u001b[0;34m,\u001b[0m \u001b[0mw\u001b[0m\u001b[0;34m)\u001b[0m\u001b[0;34m\u001b[0m\u001b[0m\n\u001b[0m\u001b[1;32m     10\u001b[0m                     \u001b[0mdegree\u001b[0m \u001b[0;34m=\u001b[0m \u001b[0mcalculate_degree_of_transform\u001b[0m\u001b[0;34m(\u001b[0m\u001b[0msecond_unccz\u001b[0m\u001b[0;34m)\u001b[0m\u001b[0;34m\u001b[0m\u001b[0m\n\u001b[1;32m     11\u001b[0m                     \u001b[0mprint\u001b[0m\u001b[0;34m(\u001b[0m\u001b[0;34m'n='\u001b[0m \u001b[0;34m+\u001b[0m \u001b[0mstr\u001b[0m\u001b[0;34m(\u001b[0m\u001b[0;36m4\u001b[0m \u001b[0;34m*\u001b[0m \u001b[0mk\u001b[0m\u001b[0;34m)\u001b[0m \u001b[0;34m+\u001b[0m \u001b[0;34m', s='\u001b[0m \u001b[0;34m+\u001b[0m \u001b[0mstr\u001b[0m\u001b[0;34m(\u001b[0m\u001b[0ms\u001b[0m\u001b[0;34m)\u001b[0m \u001b[0;34m+\u001b[0m \u001b[0;34m\" w=\"\u001b[0m \u001b[0;34m+\u001b[0m \u001b[0mstr\u001b[0m\u001b[0;34m(\u001b[0m\u001b[0mw\u001b[0m\u001b[0;34m)\u001b[0m \u001b[0;34m+\u001b[0m\u001b[0;34m\", d=\"\u001b[0m \u001b[0;34m+\u001b[0m \u001b[0mstr\u001b[0m\u001b[0;34m(\u001b[0m\u001b[0mdegree\u001b[0m\u001b[0;34m)\u001b[0m\u001b[0;34m)\u001b[0m\u001b[0;34m\u001b[0m\u001b[0m\n",
      "\u001b[0;32m<ipython-input-30-03b37086ed46>\u001b[0m in \u001b[0;36msecond_not_ccz_eq\u001b[0;34m(k, s, w)\u001b[0m\n\u001b[1;32m     12\u001b[0m     \u001b[0mres_transform\u001b[0m \u001b[0;34m=\u001b[0m \u001b[0;34m[\u001b[0m\u001b[0;34m]\u001b[0m\u001b[0;34m\u001b[0m\u001b[0m\n\u001b[1;32m     13\u001b[0m     \u001b[0;32mfor\u001b[0m \u001b[0mx\u001b[0m \u001b[0;32min\u001b[0m \u001b[0mrange\u001b[0m\u001b[0;34m(\u001b[0m\u001b[0;36m2\u001b[0m \u001b[0;34m**\u001b[0m \u001b[0mn\u001b[0m\u001b[0;34m)\u001b[0m\u001b[0;34m:\u001b[0m\u001b[0;34m\u001b[0m\u001b[0m\n\u001b[0;32m---> 14\u001b[0;31m         \u001b[0mr\u001b[0m \u001b[0;34m=\u001b[0m \u001b[0mpowF\u001b[0m\u001b[0;34m(\u001b[0m\u001b[0mx\u001b[0m\u001b[0;34m,\u001b[0m \u001b[0;34m(\u001b[0m\u001b[0;36m2\u001b[0m \u001b[0;34m**\u001b[0m \u001b[0ms\u001b[0m \u001b[0;34m+\u001b[0m \u001b[0;36m1\u001b[0m\u001b[0;34m)\u001b[0m \u001b[0;34m%\u001b[0m \u001b[0;34m(\u001b[0m\u001b[0;36m2\u001b[0m \u001b[0;34m**\u001b[0m \u001b[0mn\u001b[0m \u001b[0;34m-\u001b[0m \u001b[0;36m1\u001b[0m\u001b[0;34m)\u001b[0m\u001b[0;34m,\u001b[0m \u001b[0mF\u001b[0m\u001b[0;34m)\u001b[0m \u001b[0;34m^\u001b[0m \u001b[0mmult\u001b[0m\u001b[0;34m(\u001b[0m\u001b[0mw\u001b[0m\u001b[0;34m,\u001b[0m \u001b[0mpowF\u001b[0m\u001b[0;34m(\u001b[0m\u001b[0mx\u001b[0m\u001b[0;34m,\u001b[0m \u001b[0;34m(\u001b[0m\u001b[0;36m2\u001b[0m \u001b[0;34m**\u001b[0m \u001b[0;34m(\u001b[0m\u001b[0mi\u001b[0m \u001b[0;34m*\u001b[0m \u001b[0mk\u001b[0m\u001b[0;34m)\u001b[0m \u001b[0;34m+\u001b[0m \u001b[0;36m2\u001b[0m \u001b[0;34m**\u001b[0m \u001b[0;34m(\u001b[0m\u001b[0mm\u001b[0m \u001b[0;34m*\u001b[0m \u001b[0mk\u001b[0m \u001b[0;34m+\u001b[0m \u001b[0ms\u001b[0m\u001b[0;34m)\u001b[0m\u001b[0;34m)\u001b[0m \u001b[0;34m%\u001b[0m \u001b[0;34m(\u001b[0m\u001b[0;36m2\u001b[0m \u001b[0;34m**\u001b[0m \u001b[0mn\u001b[0m \u001b[0;34m-\u001b[0m \u001b[0;36m1\u001b[0m\u001b[0;34m)\u001b[0m\u001b[0;34m,\u001b[0m\u001b[0mF\u001b[0m\u001b[0;34m)\u001b[0m\u001b[0;34m,\u001b[0m \u001b[0mF\u001b[0m\u001b[0;34m)\u001b[0m\u001b[0;34m\u001b[0m\u001b[0m\n\u001b[0m\u001b[1;32m     15\u001b[0m         \u001b[0mres_transform\u001b[0m\u001b[0;34m.\u001b[0m\u001b[0mappend\u001b[0m\u001b[0;34m(\u001b[0m\u001b[0mr\u001b[0m\u001b[0;34m)\u001b[0m\u001b[0;34m\u001b[0m\u001b[0m\n\u001b[1;32m     16\u001b[0m     \u001b[0;32mreturn\u001b[0m \u001b[0mres_transform\u001b[0m\u001b[0;34m\u001b[0m\u001b[0m\n",
      "\u001b[0;32m<ipython-input-17-3416de9b3863>\u001b[0m in \u001b[0;36mpowF\u001b[0;34m(elem, power, field)\u001b[0m\n\u001b[1;32m      4\u001b[0m     \u001b[0mres\u001b[0m \u001b[0;34m=\u001b[0m \u001b[0melem\u001b[0m\u001b[0;34m\u001b[0m\u001b[0m\n\u001b[1;32m      5\u001b[0m     \u001b[0;32mfor\u001b[0m \u001b[0mi\u001b[0m \u001b[0;32min\u001b[0m \u001b[0mrange\u001b[0m\u001b[0;34m(\u001b[0m\u001b[0mpower\u001b[0m \u001b[0;34m-\u001b[0m \u001b[0;36m1\u001b[0m\u001b[0;34m)\u001b[0m\u001b[0;34m:\u001b[0m\u001b[0;34m\u001b[0m\u001b[0m\n\u001b[0;32m----> 6\u001b[0;31m         \u001b[0mres\u001b[0m \u001b[0;34m=\u001b[0m \u001b[0mmult\u001b[0m\u001b[0;34m(\u001b[0m\u001b[0mres\u001b[0m\u001b[0;34m,\u001b[0m \u001b[0melem\u001b[0m\u001b[0;34m,\u001b[0m \u001b[0mfield\u001b[0m\u001b[0;34m)\u001b[0m\u001b[0;34m\u001b[0m\u001b[0m\n\u001b[0m\u001b[1;32m      7\u001b[0m     \u001b[0;32mreturn\u001b[0m \u001b[0mres\u001b[0m\u001b[0;34m\u001b[0m\u001b[0m\n\u001b[1;32m      8\u001b[0m \u001b[0;34m\u001b[0m\u001b[0m\n",
      "\u001b[0;32m<ipython-input-16-14a4827be95b>\u001b[0m in \u001b[0;36mmult\u001b[0;34m(elem1, elem2, field)\u001b[0m\n\u001b[1;32m      1\u001b[0m \u001b[0;32mdef\u001b[0m \u001b[0mmult\u001b[0m\u001b[0;34m(\u001b[0m\u001b[0melem1\u001b[0m\u001b[0;34m,\u001b[0m \u001b[0melem2\u001b[0m\u001b[0;34m,\u001b[0m \u001b[0mfield\u001b[0m\u001b[0;34m)\u001b[0m\u001b[0;34m:\u001b[0m\u001b[0;34m\u001b[0m\u001b[0m\n\u001b[0;32m----> 2\u001b[0;31m     \u001b[0;32mreturn\u001b[0m \u001b[0mfield\u001b[0m\u001b[0;34m.\u001b[0m\u001b[0mMultiply\u001b[0m\u001b[0;34m(\u001b[0m\u001b[0melem1\u001b[0m\u001b[0;34m,\u001b[0m \u001b[0melem2\u001b[0m\u001b[0;34m)\u001b[0m\u001b[0;34m\u001b[0m\u001b[0m\n\u001b[0m",
      "\u001b[0;32m~/anaconda3/lib/python3.6/site-packages/pyfinite/ffield.py\u001b[0m in \u001b[0;36m<lambda>\u001b[0;34m(a, b)\u001b[0m\n\u001b[1;32m    191\u001b[0m             \u001b[0mself\u001b[0m\u001b[0;34m.\u001b[0m\u001b[0munity\u001b[0m \u001b[0;34m=\u001b[0m \u001b[0mlong\u001b[0m\u001b[0;34m(\u001b[0m\u001b[0;36m1\u001b[0m\u001b[0;34m)\u001b[0m\u001b[0;34m\u001b[0m\u001b[0m\n\u001b[1;32m    192\u001b[0m             \u001b[0mself\u001b[0m\u001b[0;34m.\u001b[0m\u001b[0mInverse\u001b[0m \u001b[0;34m=\u001b[0m \u001b[0mself\u001b[0m\u001b[0;34m.\u001b[0m\u001b[0mDoInverseForBigField\u001b[0m\u001b[0;34m\u001b[0m\u001b[0m\n\u001b[0;32m--> 193\u001b[0;31m             \u001b[0mself\u001b[0m\u001b[0;34m.\u001b[0m\u001b[0mMultiply\u001b[0m \u001b[0;34m=\u001b[0m \u001b[0;32mlambda\u001b[0m \u001b[0ma\u001b[0m\u001b[0;34m,\u001b[0m\u001b[0mb\u001b[0m\u001b[0;34m:\u001b[0m \u001b[0mself\u001b[0m\u001b[0;34m.\u001b[0m\u001b[0mDoMultiply\u001b[0m\u001b[0;34m(\u001b[0m\u001b[0mlong\u001b[0m\u001b[0;34m(\u001b[0m\u001b[0ma\u001b[0m\u001b[0;34m)\u001b[0m\u001b[0;34m,\u001b[0m\u001b[0mlong\u001b[0m\u001b[0;34m(\u001b[0m\u001b[0mb\u001b[0m\u001b[0;34m)\u001b[0m\u001b[0;34m)\u001b[0m\u001b[0;34m\u001b[0m\u001b[0m\n\u001b[0m\u001b[1;32m    194\u001b[0m             \u001b[0mself\u001b[0m\u001b[0;34m.\u001b[0m\u001b[0mDivide\u001b[0m \u001b[0;34m=\u001b[0m \u001b[0;32mlambda\u001b[0m \u001b[0ma\u001b[0m\u001b[0;34m,\u001b[0m\u001b[0mb\u001b[0m\u001b[0;34m:\u001b[0m \u001b[0mself\u001b[0m\u001b[0;34m.\u001b[0m\u001b[0mDoDivide\u001b[0m\u001b[0;34m(\u001b[0m\u001b[0mlong\u001b[0m\u001b[0;34m(\u001b[0m\u001b[0ma\u001b[0m\u001b[0;34m)\u001b[0m\u001b[0;34m,\u001b[0m\u001b[0mlong\u001b[0m\u001b[0;34m(\u001b[0m\u001b[0mb\u001b[0m\u001b[0;34m)\u001b[0m\u001b[0;34m)\u001b[0m\u001b[0;34m\u001b[0m\u001b[0m\n\u001b[1;32m    195\u001b[0m \u001b[0;34m\u001b[0m\u001b[0m\n",
      "\u001b[0;32m~/anaconda3/lib/python3.6/site-packages/pyfinite/ffield.py\u001b[0m in \u001b[0;36mDoMultiply\u001b[0;34m(self, f, v)\u001b[0m\n\u001b[1;32m    250\u001b[0m         \u001b[0mm\u001b[0m \u001b[0;34m=\u001b[0m \u001b[0mself\u001b[0m\u001b[0;34m.\u001b[0m\u001b[0mMultiplyWithoutReducing\u001b[0m\u001b[0;34m(\u001b[0m\u001b[0mf\u001b[0m\u001b[0;34m,\u001b[0m\u001b[0mv\u001b[0m\u001b[0;34m)\u001b[0m\u001b[0;34m\u001b[0m\u001b[0m\n\u001b[1;32m    251\u001b[0m         return self.FullDivision(m,self.generator,\n\u001b[0;32m--> 252\u001b[0;31m                                  self.FindDegree(m),self.n)[1]\n\u001b[0m\u001b[1;32m    253\u001b[0m \u001b[0;34m\u001b[0m\u001b[0m\n\u001b[1;32m    254\u001b[0m     \u001b[0;32mdef\u001b[0m \u001b[0mDoInverseForSmallField\u001b[0m\u001b[0;34m(\u001b[0m\u001b[0mself\u001b[0m\u001b[0;34m,\u001b[0m\u001b[0mf\u001b[0m\u001b[0;34m)\u001b[0m\u001b[0;34m:\u001b[0m\u001b[0;34m\u001b[0m\u001b[0m\n",
      "\u001b[0;32m~/anaconda3/lib/python3.6/site-packages/pyfinite/ffield.py\u001b[0m in \u001b[0;36mFindDegree\u001b[0;34m(self, v)\u001b[0m\n\u001b[1;32m    285\u001b[0m         \u001b[0;32mif\u001b[0m \u001b[0;34m(\u001b[0m\u001b[0mv\u001b[0m\u001b[0;34m)\u001b[0m\u001b[0;34m:\u001b[0m\u001b[0;34m\u001b[0m\u001b[0m\n\u001b[1;32m    286\u001b[0m             \u001b[0mresult\u001b[0m \u001b[0;34m=\u001b[0m \u001b[0;34m-\u001b[0m\u001b[0;36m1\u001b[0m\u001b[0;34m\u001b[0m\u001b[0m\n\u001b[0;32m--> 287\u001b[0;31m             \u001b[0;32mwhile\u001b[0m\u001b[0;34m(\u001b[0m\u001b[0mv\u001b[0m\u001b[0;34m)\u001b[0m\u001b[0;34m:\u001b[0m\u001b[0;34m\u001b[0m\u001b[0m\n\u001b[0m\u001b[1;32m    288\u001b[0m                 \u001b[0mv\u001b[0m \u001b[0;34m=\u001b[0m \u001b[0mv\u001b[0m \u001b[0;34m>>\u001b[0m \u001b[0;36m1\u001b[0m\u001b[0;34m\u001b[0m\u001b[0m\n\u001b[1;32m    289\u001b[0m                 \u001b[0mresult\u001b[0m \u001b[0;34m=\u001b[0m \u001b[0mresult\u001b[0m \u001b[0;34m+\u001b[0m \u001b[0;36m1\u001b[0m\u001b[0;34m\u001b[0m\u001b[0m\n",
      "\u001b[0;31mKeyboardInterrupt\u001b[0m: "
     ]
    }
   ],
   "source": [
    "print(\"second_not_ccz_eq\")\n",
    "for k in range(3, 6):\n",
    "    if math.gcd(k, 2) == 1:\n",
    "        ws = generate_w_with_order(4 * k, 2 ** (3 * k) + 2 ** (2 * k) + 2 ** k + 1, 5)\n",
    "        print(\"ws generated!\")\n",
    "        for s in range(1, 2 * k):\n",
    "            if math.gcd(s, 2 * k) == 1:            \n",
    "                for w in ws:\n",
    "                    second_unccz = second_not_ccz_eq(k, s, w)\n",
    "                    degree = calculate_degree_of_transform(second_unccz)\n",
    "                    print('n=' + str(4 * k) + ', s=' + str(s) + \" w=\" + str(w) +\", d=\" + str(degree))"
   ]
  },
  {
   "cell_type": "code",
   "execution_count": 44,
   "metadata": {
    "collapsed": true
   },
   "outputs": [],
   "source": [
    "def find_correct_p_for_third_not_ccz(n):\n",
    "    for p in range(2, n):\n",
    "        if p != 3 and math.gcd(p, n) == 1:\n",
    "            return p\n"
   ]
  },
  {
   "cell_type": "code",
   "execution_count": 49,
   "metadata": {
    "collapsed": true
   },
   "outputs": [],
   "source": [
    "def third_not_ccz_eq(n):\n",
    "    if n < 7:\n",
    "        raise Exception('n is less then 7')\n",
    "    if n <= 2 * find_correct_p_for_third_not_ccz(n):\n",
    "        raise Exception('n  <= 2 * p')\n",
    "    F = ffield.FField(n)\n",
    "    res_transform = []\n",
    "    for x in range(2 ** n):\n",
    "        pow_3 = powF(x, 3, F) \n",
    "        r = pow_3 ^ trace(powF(pow_3, 3, F), 1, n, F)\n",
    "        res_transform.append(r)\n",
    "    return res_transform"
   ]
  },
  {
   "cell_type": "code",
   "execution_count": 50,
   "metadata": {
    "collapsed": true
   },
   "outputs": [],
   "source": [
    "def generate_valid_n_for_third_not_ccz(upper_limit = 10):\n",
    "    res_l = []\n",
    "    for n in range(7, upper_limit):\n",
    "        if n > 2 * find_correct_p_for_third_not_ccz(n):\n",
    "            res_l.append(n)\n",
    "    return res_l        "
   ]
  },
  {
   "cell_type": "code",
   "execution_count": 51,
   "metadata": {},
   "outputs": [
    {
     "name": "stdout",
     "output_type": "stream",
     "text": [
      "third_not_ccz_eq\n",
      "n=7, d=2\n",
      "n=9, d=2\n",
      "n=11, d=2\n",
      "n=12, d=2\n",
      "n=13, d=2\n"
     ]
    }
   ],
   "source": [
    "print(\"third_not_ccz_eq\")\n",
    "for n in generate_valid_n_for_third_not_ccz(14):\n",
    "    third_unccz = third_not_ccz_eq(n)\n",
    "    degree = calculate_degree_of_transform(third_unccz)\n",
    "    print('n=' + str(n) + \", d=\" + str(degree))"
   ]
  },
  {
   "cell_type": "code",
   "execution_count": null,
   "metadata": {
    "collapsed": true
   },
   "outputs": [],
   "source": []
  }
 ],
 "metadata": {
  "kernelspec": {
   "display_name": "Python 3",
   "language": "python",
   "name": "python3"
  },
  "language_info": {
   "codemirror_mode": {
    "name": "ipython",
    "version": 3
   },
   "file_extension": ".py",
   "mimetype": "text/x-python",
   "name": "python",
   "nbconvert_exporter": "python",
   "pygments_lexer": "ipython3",
   "version": "3.6.2"
  }
 },
 "nbformat": 4,
 "nbformat_minor": 2
}
